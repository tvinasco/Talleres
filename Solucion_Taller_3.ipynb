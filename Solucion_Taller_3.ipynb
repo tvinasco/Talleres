{
  "nbformat": 4,
  "nbformat_minor": 0,
  "metadata": {
    "kernelspec": {
      "display_name": "Python 3",
      "language": "python",
      "name": "python3"
    },
    "language_info": {
      "codemirror_mode": {
        "name": "ipython",
        "version": 3
      },
      "file_extension": ".py",
      "mimetype": "text/x-python",
      "name": "python",
      "nbconvert_exporter": "python",
      "pygments_lexer": "ipython3",
      "version": "3.7.4"
    },
    "colab": {
      "name": "Copia de Taller 3 (1).ipynb",
      "provenance": [],
      "collapsed_sections": []
    }
  },
  "cells": [
    {
      "cell_type": "markdown",
      "metadata": {
        "id": "eMdOZGme0ynY"
      },
      "source": [
        "# Taller "
      ]
    },
    {
      "cell_type": "markdown",
      "metadata": {
        "id": "EWAyHNrf0ynf"
      },
      "source": [
        "En este taller trabajará con dos dataset  'title.csv' y 'cast.csv'. El archivo 'title.csv' contiene la lista de películas con el año de estreno; mientras que el archivo 'cast.csv' tiene cinco columnas que almacenan el título de la película, año de estreno, elenco de estrellas, tipo (actor / actriz), personajes y calificaciones de los actores, como se muestra a continuación,"
      ]
    },
    {
      "cell_type": "code",
      "metadata": {
        "id": "Vdce4hZC0yng"
      },
      "source": [
        "#En esta celda se van a dejar  las librerías que usará a lo largo del taller\n",
        "import json\n",
        "import requests\n",
        "from bs4 import BeautifulSoup\n",
        "import pandas as pd\n",
        "import matplotlib.pyplot as plt\n",
        "import seaborn as sns\n",
        "import numpy as np"
      ],
      "execution_count": null,
      "outputs": []
    },
    {
      "cell_type": "code",
      "metadata": {
        "id": "qWaxztKd1Ggk",
        "colab": {
          "base_uri": "https://localhost:8080/"
        },
        "outputId": "dc903945-17f6-438f-d836-14481e913509"
      },
      "source": [
        "from google.colab import drive\n",
        "drive.mount('/content/drive')"
      ],
      "execution_count": null,
      "outputs": [
        {
          "output_type": "stream",
          "name": "stdout",
          "text": [
            "Mounted at /content/drive\n"
          ]
        }
      ]
    },
    {
      "cell_type": "code",
      "metadata": {
        "id": "BWAzrYn50yni"
      },
      "source": [
        "# Cargas los dos datasets\n",
        "with open('/content/drive/MyDrive/Data_Science/cast.csv') as f:\n",
        "  cast=pd.read_csv(f,delimiter=',')"
      ],
      "execution_count": null,
      "outputs": []
    },
    {
      "cell_type": "code",
      "metadata": {
        "id": "sixGcc5w0ynj"
      },
      "source": [
        "with open('/content/drive/MyDrive/Data_Science/titles.csv') as f:\n",
        "  titles=pd.read_csv(f,delimiter=',')"
      ],
      "execution_count": null,
      "outputs": []
    },
    {
      "cell_type": "code",
      "metadata": {
        "scrolled": true,
        "id": "cLsXiSWd0ynj",
        "colab": {
          "base_uri": "https://localhost:8080/"
        },
        "outputId": "dab1c029-2a2d-4d90-b3d0-19108b36730e"
      },
      "source": [
        "#Despliegue una muestra del dataset title (head, tail, sample)\n",
        "titles.head"
      ],
      "execution_count": null,
      "outputs": [
        {
          "output_type": "execute_result",
          "data": {
            "text/plain": [
              "<bound method NDFrame.head of                                         title  year\n",
              "0                                      Mahler  1974\n",
              "1                Ogon, voda i... mednye truby  1968\n",
              "2       Ana Nojoom bent alasherah wamotalagah  2014\n",
              "3                           Malu de Bicicleta  2010\n",
              "4                  Nazareno Apostol: Boy Ahas  1989\n",
              "...                                       ...   ...\n",
              "230402                          El lobo negro  1981\n",
              "230403                   Komu na Rusi zhit...  1989\n",
              "230404                               Senotaji  2013\n",
              "230405                      The Leopard Woman  1920\n",
              "230406                     Mio caro assassino  1972\n",
              "\n",
              "[230407 rows x 2 columns]>"
            ]
          },
          "metadata": {},
          "execution_count": 48
        }
      ]
    },
    {
      "cell_type": "code",
      "metadata": {
        "scrolled": true,
        "id": "Qk3Uvq290ynk",
        "colab": {
          "base_uri": "https://localhost:8080/"
        },
        "outputId": "880bd0d1-77ff-4025-d37f-fb187370afaa"
      },
      "source": [
        "titles.tail"
      ],
      "execution_count": null,
      "outputs": [
        {
          "output_type": "execute_result",
          "data": {
            "text/plain": [
              "<bound method NDFrame.tail of                                         title  year\n",
              "0                                      Mahler  1974\n",
              "1                Ogon, voda i... mednye truby  1968\n",
              "2       Ana Nojoom bent alasherah wamotalagah  2014\n",
              "3                           Malu de Bicicleta  2010\n",
              "4                  Nazareno Apostol: Boy Ahas  1989\n",
              "...                                       ...   ...\n",
              "230402                          El lobo negro  1981\n",
              "230403                   Komu na Rusi zhit...  1989\n",
              "230404                               Senotaji  2013\n",
              "230405                      The Leopard Woman  1920\n",
              "230406                     Mio caro assassino  1972\n",
              "\n",
              "[230407 rows x 2 columns]>"
            ]
          },
          "metadata": {},
          "execution_count": 25
        }
      ]
    },
    {
      "cell_type": "code",
      "metadata": {
        "id": "4nRUPJoF0ynl",
        "colab": {
          "base_uri": "https://localhost:8080/"
        },
        "outputId": "73431602-e814-4bf6-b763-7d842a76f086"
      },
      "source": [
        "titles.sample"
      ],
      "execution_count": null,
      "outputs": [
        {
          "output_type": "execute_result",
          "data": {
            "text/plain": [
              "<bound method NDFrame.sample of                                         title  year\n",
              "0                                      Mahler  1974\n",
              "1                Ogon, voda i... mednye truby  1968\n",
              "2       Ana Nojoom bent alasherah wamotalagah  2014\n",
              "3                           Malu de Bicicleta  2010\n",
              "4                  Nazareno Apostol: Boy Ahas  1989\n",
              "...                                       ...   ...\n",
              "230402                          El lobo negro  1981\n",
              "230403                   Komu na Rusi zhit...  1989\n",
              "230404                               Senotaji  2013\n",
              "230405                      The Leopard Woman  1920\n",
              "230406                     Mio caro assassino  1972\n",
              "\n",
              "[230407 rows x 2 columns]>"
            ]
          },
          "metadata": {},
          "execution_count": 26
        }
      ]
    },
    {
      "cell_type": "code",
      "metadata": {
        "id": "OBxQW6rs0ynm",
        "colab": {
          "base_uri": "https://localhost:8080/"
        },
        "outputId": "83f993db-9e09-4f3e-9597-e3c89f4ee7cf"
      },
      "source": [
        "#Despliegue una muestra del dataset cast  (head, tail, sample)\n",
        "cast.sample"
      ],
      "execution_count": null,
      "outputs": [
        {
          "output_type": "execute_result",
          "data": {
            "text/plain": [
              "<bound method NDFrame.sample of                                     title  year  ...                character     n\n",
              "0                          Closet Monster  2015  ...                  Buffy 4  31.0\n",
              "1                         Suuri illusioni  1985  ...                   Guests  22.0\n",
              "2                     Battle of the Sexes  2017  ...          Bobby Riggs Fan  10.0\n",
              "3                    Secret in Their Eyes  2015  ...          2002 Dodger Fan   NaN\n",
              "4                              Steve Jobs  2015  ...  1988 Opera House Patron   NaN\n",
              "...                                   ...   ...  ...                      ...   ...\n",
              "3564645                    Stuttur Frakki  1993  ...               Flugfreyja  24.0\n",
              "3564646                           Foxtrot  1988  ...                     D?ra  24.0\n",
              "3564647  Niceland (Population. 1.000.002)  2004  ...             Woman in Bus  26.0\n",
              "3564648                      U.S.S.S.S...  2003  ...   Afgr.dama ? bens?nst??  17.0\n",
              "3564649                 Bye Bye Blue Bird  1999  ...        Pensionatv?rtinde   NaN\n",
              "\n",
              "[3564650 rows x 6 columns]>"
            ]
          },
          "metadata": {},
          "execution_count": 27
        }
      ]
    },
    {
      "cell_type": "code",
      "metadata": {
        "colab": {
          "base_uri": "https://localhost:8080/"
        },
        "id": "x6MwlW6L7XN5",
        "outputId": "51d94820-5c86-4129-dc25-dc153e8e362c"
      },
      "source": [
        "cast.tail"
      ],
      "execution_count": null,
      "outputs": [
        {
          "output_type": "execute_result",
          "data": {
            "text/plain": [
              "<bound method NDFrame.tail of                                     title  year  ...                character     n\n",
              "0                          Closet Monster  2015  ...                  Buffy 4  31.0\n",
              "1                         Suuri illusioni  1985  ...                   Guests  22.0\n",
              "2                     Battle of the Sexes  2017  ...          Bobby Riggs Fan  10.0\n",
              "3                    Secret in Their Eyes  2015  ...          2002 Dodger Fan   NaN\n",
              "4                              Steve Jobs  2015  ...  1988 Opera House Patron   NaN\n",
              "...                                   ...   ...  ...                      ...   ...\n",
              "3564645                    Stuttur Frakki  1993  ...               Flugfreyja  24.0\n",
              "3564646                           Foxtrot  1988  ...                     D?ra  24.0\n",
              "3564647  Niceland (Population. 1.000.002)  2004  ...             Woman in Bus  26.0\n",
              "3564648                      U.S.S.S.S...  2003  ...   Afgr.dama ? bens?nst??  17.0\n",
              "3564649                 Bye Bye Blue Bird  1999  ...        Pensionatv?rtinde   NaN\n",
              "\n",
              "[3564650 rows x 6 columns]>"
            ]
          },
          "metadata": {},
          "execution_count": 28
        }
      ]
    },
    {
      "cell_type": "code",
      "metadata": {
        "colab": {
          "base_uri": "https://localhost:8080/"
        },
        "id": "i9sShDID7XEx",
        "outputId": "f22797bb-09c4-4e33-bfcc-ef6173d2352c"
      },
      "source": [
        "cast.sample"
      ],
      "execution_count": null,
      "outputs": [
        {
          "output_type": "execute_result",
          "data": {
            "text/plain": [
              "<bound method NDFrame.sample of                                     title  year  ...                character     n\n",
              "0                          Closet Monster  2015  ...                  Buffy 4  31.0\n",
              "1                         Suuri illusioni  1985  ...                   Guests  22.0\n",
              "2                     Battle of the Sexes  2017  ...          Bobby Riggs Fan  10.0\n",
              "3                    Secret in Their Eyes  2015  ...          2002 Dodger Fan   NaN\n",
              "4                              Steve Jobs  2015  ...  1988 Opera House Patron   NaN\n",
              "...                                   ...   ...  ...                      ...   ...\n",
              "3564645                    Stuttur Frakki  1993  ...               Flugfreyja  24.0\n",
              "3564646                           Foxtrot  1988  ...                     D?ra  24.0\n",
              "3564647  Niceland (Population. 1.000.002)  2004  ...             Woman in Bus  26.0\n",
              "3564648                      U.S.S.S.S...  2003  ...   Afgr.dama ? bens?nst??  17.0\n",
              "3564649                 Bye Bye Blue Bird  1999  ...        Pensionatv?rtinde   NaN\n",
              "\n",
              "[3564650 rows x 6 columns]>"
            ]
          },
          "metadata": {},
          "execution_count": 29
        }
      ]
    },
    {
      "cell_type": "code",
      "metadata": {
        "scrolled": true,
        "id": "He07muja0ynn",
        "colab": {
          "base_uri": "https://localhost:8080/"
        },
        "outputId": "1d6d9617-af0a-46b8-afb1-fa10dfac5a8e"
      },
      "source": [
        "#Cuantos nomrbes de peliculas hay en title y cuantos son distintos\n",
        "titles.count()"
      ],
      "execution_count": null,
      "outputs": [
        {
          "output_type": "execute_result",
          "data": {
            "text/plain": [
              "title    230407\n",
              "year     230407\n",
              "dtype: int64"
            ]
          },
          "metadata": {},
          "execution_count": 32
        }
      ]
    },
    {
      "cell_type": "code",
      "metadata": {
        "id": "Ko9yeuws8GE0"
      },
      "source": [
        "df.diff()"
      ],
      "execution_count": null,
      "outputs": []
    },
    {
      "cell_type": "code",
      "metadata": {
        "scrolled": false,
        "id": "D7ZGrSuA0yno",
        "colab": {
          "base_uri": "https://localhost:8080/",
          "height": 418
        },
        "outputId": "7ae4a1ae-1097-4b0f-abbf-a1527d254f42"
      },
      "source": [
        "titles"
      ],
      "execution_count": null,
      "outputs": [
        {
          "output_type": "execute_result",
          "data": {
            "text/html": [
              "<div>\n",
              "<style scoped>\n",
              "    .dataframe tbody tr th:only-of-type {\n",
              "        vertical-align: middle;\n",
              "    }\n",
              "\n",
              "    .dataframe tbody tr th {\n",
              "        vertical-align: top;\n",
              "    }\n",
              "\n",
              "    .dataframe thead th {\n",
              "        text-align: right;\n",
              "    }\n",
              "</style>\n",
              "<table border=\"1\" class=\"dataframe\">\n",
              "  <thead>\n",
              "    <tr style=\"text-align: right;\">\n",
              "      <th></th>\n",
              "      <th>title</th>\n",
              "      <th>year</th>\n",
              "    </tr>\n",
              "  </thead>\n",
              "  <tbody>\n",
              "    <tr>\n",
              "      <th>0</th>\n",
              "      <td>Mahler</td>\n",
              "      <td>1974</td>\n",
              "    </tr>\n",
              "    <tr>\n",
              "      <th>1</th>\n",
              "      <td>Ogon, voda i... mednye truby</td>\n",
              "      <td>1968</td>\n",
              "    </tr>\n",
              "    <tr>\n",
              "      <th>2</th>\n",
              "      <td>Ana Nojoom bent alasherah wamotalagah</td>\n",
              "      <td>2014</td>\n",
              "    </tr>\n",
              "    <tr>\n",
              "      <th>3</th>\n",
              "      <td>Malu de Bicicleta</td>\n",
              "      <td>2010</td>\n",
              "    </tr>\n",
              "    <tr>\n",
              "      <th>4</th>\n",
              "      <td>Nazareno Apostol: Boy Ahas</td>\n",
              "      <td>1989</td>\n",
              "    </tr>\n",
              "    <tr>\n",
              "      <th>...</th>\n",
              "      <td>...</td>\n",
              "      <td>...</td>\n",
              "    </tr>\n",
              "    <tr>\n",
              "      <th>230402</th>\n",
              "      <td>El lobo negro</td>\n",
              "      <td>1981</td>\n",
              "    </tr>\n",
              "    <tr>\n",
              "      <th>230403</th>\n",
              "      <td>Komu na Rusi zhit...</td>\n",
              "      <td>1989</td>\n",
              "    </tr>\n",
              "    <tr>\n",
              "      <th>230404</th>\n",
              "      <td>Senotaji</td>\n",
              "      <td>2013</td>\n",
              "    </tr>\n",
              "    <tr>\n",
              "      <th>230405</th>\n",
              "      <td>The Leopard Woman</td>\n",
              "      <td>1920</td>\n",
              "    </tr>\n",
              "    <tr>\n",
              "      <th>230406</th>\n",
              "      <td>Mio caro assassino</td>\n",
              "      <td>1972</td>\n",
              "    </tr>\n",
              "  </tbody>\n",
              "</table>\n",
              "<p>230407 rows × 2 columns</p>\n",
              "</div>"
            ],
            "text/plain": [
              "                                        title  year\n",
              "0                                      Mahler  1974\n",
              "1                Ogon, voda i... mednye truby  1968\n",
              "2       Ana Nojoom bent alasherah wamotalagah  2014\n",
              "3                           Malu de Bicicleta  2010\n",
              "4                  Nazareno Apostol: Boy Ahas  1989\n",
              "...                                       ...   ...\n",
              "230402                          El lobo negro  1981\n",
              "230403                   Komu na Rusi zhit...  1989\n",
              "230404                               Senotaji  2013\n",
              "230405                      The Leopard Woman  1920\n",
              "230406                     Mio caro assassino  1972\n",
              "\n",
              "[230407 rows x 2 columns]"
            ]
          },
          "metadata": {},
          "execution_count": 30
        }
      ]
    },
    {
      "cell_type": "code",
      "metadata": {
        "id": "7wiLUBh40ynp",
        "colab": {
          "base_uri": "https://localhost:8080/"
        },
        "outputId": "c9697d13-e40b-4e34-ea91-606571877cb1"
      },
      "source": [
        "#Cuantas peliculas por año en el dataset titles y cuantas en el dataset cast\n",
        "titles.count()"
      ],
      "execution_count": null,
      "outputs": [
        {
          "output_type": "execute_result",
          "data": {
            "text/plain": [
              "title    230407\n",
              "year     230407\n",
              "dtype: int64"
            ]
          },
          "metadata": {},
          "execution_count": 42
        }
      ]
    },
    {
      "cell_type": "code",
      "metadata": {
        "id": "-9CCqf7r0ynq",
        "colab": {
          "base_uri": "https://localhost:8080/",
          "height": 636
        },
        "outputId": "0b05c3db-590b-4ee6-d714-dfb073680f88"
      },
      "source": [
        "# cuantas peliculas tienen por nombre \"Hamlet\"\n",
        "titles[(titles.title == 'Hamlet')]"
      ],
      "execution_count": null,
      "outputs": [
        {
          "output_type": "execute_result",
          "data": {
            "text/html": [
              "<div>\n",
              "<style scoped>\n",
              "    .dataframe tbody tr th:only-of-type {\n",
              "        vertical-align: middle;\n",
              "    }\n",
              "\n",
              "    .dataframe tbody tr th {\n",
              "        vertical-align: top;\n",
              "    }\n",
              "\n",
              "    .dataframe thead th {\n",
              "        text-align: right;\n",
              "    }\n",
              "</style>\n",
              "<table border=\"1\" class=\"dataframe\">\n",
              "  <thead>\n",
              "    <tr style=\"text-align: right;\">\n",
              "      <th></th>\n",
              "      <th>title</th>\n",
              "      <th>year</th>\n",
              "    </tr>\n",
              "  </thead>\n",
              "  <tbody>\n",
              "    <tr>\n",
              "      <th>10292</th>\n",
              "      <td>Hamlet</td>\n",
              "      <td>2011</td>\n",
              "    </tr>\n",
              "    <tr>\n",
              "      <th>21526</th>\n",
              "      <td>Hamlet</td>\n",
              "      <td>1954</td>\n",
              "    </tr>\n",
              "    <tr>\n",
              "      <th>26003</th>\n",
              "      <td>Hamlet</td>\n",
              "      <td>1976</td>\n",
              "    </tr>\n",
              "    <tr>\n",
              "      <th>27654</th>\n",
              "      <td>Hamlet</td>\n",
              "      <td>1921</td>\n",
              "    </tr>\n",
              "    <tr>\n",
              "      <th>30756</th>\n",
              "      <td>Hamlet</td>\n",
              "      <td>1996</td>\n",
              "    </tr>\n",
              "    <tr>\n",
              "      <th>44266</th>\n",
              "      <td>Hamlet</td>\n",
              "      <td>1913</td>\n",
              "    </tr>\n",
              "    <tr>\n",
              "      <th>47385</th>\n",
              "      <td>Hamlet</td>\n",
              "      <td>1964</td>\n",
              "    </tr>\n",
              "    <tr>\n",
              "      <th>50848</th>\n",
              "      <td>Hamlet</td>\n",
              "      <td>1948</td>\n",
              "    </tr>\n",
              "    <tr>\n",
              "      <th>109921</th>\n",
              "      <td>Hamlet</td>\n",
              "      <td>1911</td>\n",
              "    </tr>\n",
              "    <tr>\n",
              "      <th>121876</th>\n",
              "      <td>Hamlet</td>\n",
              "      <td>2014</td>\n",
              "    </tr>\n",
              "    <tr>\n",
              "      <th>135830</th>\n",
              "      <td>Hamlet</td>\n",
              "      <td>1990</td>\n",
              "    </tr>\n",
              "    <tr>\n",
              "      <th>137015</th>\n",
              "      <td>Hamlet</td>\n",
              "      <td>2009</td>\n",
              "    </tr>\n",
              "    <tr>\n",
              "      <th>153930</th>\n",
              "      <td>Hamlet</td>\n",
              "      <td>2000</td>\n",
              "    </tr>\n",
              "    <tr>\n",
              "      <th>155754</th>\n",
              "      <td>Hamlet</td>\n",
              "      <td>2016</td>\n",
              "    </tr>\n",
              "    <tr>\n",
              "      <th>158256</th>\n",
              "      <td>Hamlet</td>\n",
              "      <td>1969</td>\n",
              "    </tr>\n",
              "    <tr>\n",
              "      <th>161520</th>\n",
              "      <td>Hamlet</td>\n",
              "      <td>1910</td>\n",
              "    </tr>\n",
              "    <tr>\n",
              "      <th>165195</th>\n",
              "      <td>Hamlet</td>\n",
              "      <td>1973</td>\n",
              "    </tr>\n",
              "    <tr>\n",
              "      <th>190924</th>\n",
              "      <td>Hamlet</td>\n",
              "      <td>1987</td>\n",
              "    </tr>\n",
              "    <tr>\n",
              "      <th>191282</th>\n",
              "      <td>Hamlet</td>\n",
              "      <td>2015</td>\n",
              "    </tr>\n",
              "  </tbody>\n",
              "</table>\n",
              "</div>"
            ],
            "text/plain": [
              "         title  year\n",
              "10292   Hamlet  2011\n",
              "21526   Hamlet  1954\n",
              "26003   Hamlet  1976\n",
              "27654   Hamlet  1921\n",
              "30756   Hamlet  1996\n",
              "44266   Hamlet  1913\n",
              "47385   Hamlet  1964\n",
              "50848   Hamlet  1948\n",
              "109921  Hamlet  1911\n",
              "121876  Hamlet  2014\n",
              "135830  Hamlet  1990\n",
              "137015  Hamlet  2009\n",
              "153930  Hamlet  2000\n",
              "155754  Hamlet  2016\n",
              "158256  Hamlet  1969\n",
              "161520  Hamlet  1910\n",
              "165195  Hamlet  1973\n",
              "190924  Hamlet  1987\n",
              "191282  Hamlet  2015"
            ]
          },
          "metadata": {},
          "execution_count": 76
        }
      ]
    },
    {
      "cell_type": "code",
      "metadata": {
        "id": "eizKJBC90ynr",
        "colab": {
          "base_uri": "https://localhost:8080/",
          "height": 296
        },
        "outputId": "09695364-c88a-4d55-b8cf-542408723396"
      },
      "source": [
        "#Cuantas peliculas son de nombre \"Carmen\" y son de antes de 1950\n",
        "titles[(titles.title == 'Carmen') & (titles.year <= 1950)]"
      ],
      "execution_count": null,
      "outputs": [
        {
          "output_type": "execute_result",
          "data": {
            "text/html": [
              "<div>\n",
              "<style scoped>\n",
              "    .dataframe tbody tr th:only-of-type {\n",
              "        vertical-align: middle;\n",
              "    }\n",
              "\n",
              "    .dataframe tbody tr th {\n",
              "        vertical-align: top;\n",
              "    }\n",
              "\n",
              "    .dataframe thead th {\n",
              "        text-align: right;\n",
              "    }\n",
              "</style>\n",
              "<table border=\"1\" class=\"dataframe\">\n",
              "  <thead>\n",
              "    <tr style=\"text-align: right;\">\n",
              "      <th></th>\n",
              "      <th>title</th>\n",
              "      <th>year</th>\n",
              "    </tr>\n",
              "  </thead>\n",
              "  <tbody>\n",
              "    <tr>\n",
              "      <th>40984</th>\n",
              "      <td>Carmen</td>\n",
              "      <td>1926</td>\n",
              "    </tr>\n",
              "    <tr>\n",
              "      <th>46836</th>\n",
              "      <td>Carmen</td>\n",
              "      <td>1941</td>\n",
              "    </tr>\n",
              "    <tr>\n",
              "      <th>47609</th>\n",
              "      <td>Carmen</td>\n",
              "      <td>1944</td>\n",
              "    </tr>\n",
              "    <tr>\n",
              "      <th>66817</th>\n",
              "      <td>Carmen</td>\n",
              "      <td>1932</td>\n",
              "    </tr>\n",
              "    <tr>\n",
              "      <th>68578</th>\n",
              "      <td>Carmen</td>\n",
              "      <td>1921</td>\n",
              "    </tr>\n",
              "    <tr>\n",
              "      <th>77049</th>\n",
              "      <td>Carmen</td>\n",
              "      <td>1943</td>\n",
              "    </tr>\n",
              "    <tr>\n",
              "      <th>93538</th>\n",
              "      <td>Carmen</td>\n",
              "      <td>1918</td>\n",
              "    </tr>\n",
              "    <tr>\n",
              "      <th>120865</th>\n",
              "      <td>Carmen</td>\n",
              "      <td>1915</td>\n",
              "    </tr>\n",
              "  </tbody>\n",
              "</table>\n",
              "</div>"
            ],
            "text/plain": [
              "         title  year\n",
              "40984   Carmen  1926\n",
              "46836   Carmen  1941\n",
              "47609   Carmen  1944\n",
              "66817   Carmen  1932\n",
              "68578   Carmen  1921\n",
              "77049   Carmen  1943\n",
              "93538   Carmen  1918\n",
              "120865  Carmen  1915"
            ]
          },
          "metadata": {},
          "execution_count": 69
        }
      ]
    },
    {
      "cell_type": "code",
      "metadata": {
        "id": "Sjt-LWMX0ynr"
      },
      "source": [
        "# Titulos mas comunes en la historia filmografica"
      ],
      "execution_count": null,
      "outputs": []
    },
    {
      "cell_type": "code",
      "metadata": {
        "id": "70qKp6L60yns",
        "colab": {
          "base_uri": "https://localhost:8080/",
          "height": 296
        },
        "outputId": "05a0e826-db73-42ad-93ba-694068da8e43"
      },
      "source": [
        "# Cual fue la primer pelicula hecha titulada \"Romeo and Juliet\"\n",
        "titles[(titles.title == 'Romeo and Juliet')]"
      ],
      "execution_count": null,
      "outputs": [
        {
          "output_type": "execute_result",
          "data": {
            "text/html": [
              "<div>\n",
              "<style scoped>\n",
              "    .dataframe tbody tr th:only-of-type {\n",
              "        vertical-align: middle;\n",
              "    }\n",
              "\n",
              "    .dataframe tbody tr th {\n",
              "        vertical-align: top;\n",
              "    }\n",
              "\n",
              "    .dataframe thead th {\n",
              "        text-align: right;\n",
              "    }\n",
              "</style>\n",
              "<table border=\"1\" class=\"dataframe\">\n",
              "  <thead>\n",
              "    <tr style=\"text-align: right;\">\n",
              "      <th></th>\n",
              "      <th>title</th>\n",
              "      <th>year</th>\n",
              "    </tr>\n",
              "  </thead>\n",
              "  <tbody>\n",
              "    <tr>\n",
              "      <th>16975</th>\n",
              "      <td>Romeo and Juliet</td>\n",
              "      <td>2014</td>\n",
              "    </tr>\n",
              "    <tr>\n",
              "      <th>82622</th>\n",
              "      <td>Romeo and Juliet</td>\n",
              "      <td>1936</td>\n",
              "    </tr>\n",
              "    <tr>\n",
              "      <th>87037</th>\n",
              "      <td>Romeo and Juliet</td>\n",
              "      <td>1954</td>\n",
              "    </tr>\n",
              "    <tr>\n",
              "      <th>124702</th>\n",
              "      <td>Romeo and Juliet</td>\n",
              "      <td>1916</td>\n",
              "    </tr>\n",
              "    <tr>\n",
              "      <th>144796</th>\n",
              "      <td>Romeo and Juliet</td>\n",
              "      <td>2013</td>\n",
              "    </tr>\n",
              "    <tr>\n",
              "      <th>147308</th>\n",
              "      <td>Romeo and Juliet</td>\n",
              "      <td>1947</td>\n",
              "    </tr>\n",
              "    <tr>\n",
              "      <th>185337</th>\n",
              "      <td>Romeo and Juliet</td>\n",
              "      <td>1968</td>\n",
              "    </tr>\n",
              "    <tr>\n",
              "      <th>196039</th>\n",
              "      <td>Romeo and Juliet</td>\n",
              "      <td>1966</td>\n",
              "    </tr>\n",
              "  </tbody>\n",
              "</table>\n",
              "</div>"
            ],
            "text/plain": [
              "                   title  year\n",
              "16975   Romeo and Juliet  2014\n",
              "82622   Romeo and Juliet  1936\n",
              "87037   Romeo and Juliet  1954\n",
              "124702  Romeo and Juliet  1916\n",
              "144796  Romeo and Juliet  2013\n",
              "147308  Romeo and Juliet  1947\n",
              "185337  Romeo and Juliet  1968\n",
              "196039  Romeo and Juliet  1966"
            ]
          },
          "metadata": {},
          "execution_count": 102
        }
      ]
    },
    {
      "cell_type": "code",
      "metadata": {
        "id": "CefGVNer0yns"
      },
      "source": [
        "# Listar todas las peliculas que contengan la palabra \"Exorcist\" \n",
        "# ordenadas de la mas antigua a la mas reciente"
      ],
      "execution_count": null,
      "outputs": []
    },
    {
      "cell_type": "code",
      "metadata": {
        "id": "kPpPWypr0ynt",
        "colab": {
          "base_uri": "https://localhost:8080/",
          "height": 418
        },
        "outputId": "99f364e4-548b-442d-fd1f-a6f7f35a852c"
      },
      "source": [
        "# Cuantas peliculas fueron hechas en el año 1950?\n",
        "titles[(titles.year == 1950)]"
      ],
      "execution_count": null,
      "outputs": [
        {
          "output_type": "execute_result",
          "data": {
            "text/html": [
              "<div>\n",
              "<style scoped>\n",
              "    .dataframe tbody tr th:only-of-type {\n",
              "        vertical-align: middle;\n",
              "    }\n",
              "\n",
              "    .dataframe tbody tr th {\n",
              "        vertical-align: top;\n",
              "    }\n",
              "\n",
              "    .dataframe thead th {\n",
              "        text-align: right;\n",
              "    }\n",
              "</style>\n",
              "<table border=\"1\" class=\"dataframe\">\n",
              "  <thead>\n",
              "    <tr style=\"text-align: right;\">\n",
              "      <th></th>\n",
              "      <th>title</th>\n",
              "      <th>year</th>\n",
              "    </tr>\n",
              "  </thead>\n",
              "  <tbody>\n",
              "    <tr>\n",
              "      <th>68</th>\n",
              "      <td>Emei fei jian xia</td>\n",
              "      <td>1950</td>\n",
              "    </tr>\n",
              "    <tr>\n",
              "      <th>176</th>\n",
              "      <td>Hua jie</td>\n",
              "      <td>1950</td>\n",
              "    </tr>\n",
              "    <tr>\n",
              "      <th>223</th>\n",
              "      <td>Spy Hunt</td>\n",
              "      <td>1950</td>\n",
              "    </tr>\n",
              "    <tr>\n",
              "      <th>376</th>\n",
              "      <td>Sarumba</td>\n",
              "      <td>1950</td>\n",
              "    </tr>\n",
              "    <tr>\n",
              "      <th>522</th>\n",
              "      <td>Onu affettim</td>\n",
              "      <td>1950</td>\n",
              "    </tr>\n",
              "    <tr>\n",
              "      <th>...</th>\n",
              "      <td>...</td>\n",
              "      <td>...</td>\n",
              "    </tr>\n",
              "    <tr>\n",
              "      <th>230060</th>\n",
              "      <td>Deadly Is the Female</td>\n",
              "      <td>1950</td>\n",
              "    </tr>\n",
              "    <tr>\n",
              "      <th>230125</th>\n",
              "      <td>Magkumpareng Putik</td>\n",
              "      <td>1950</td>\n",
              "    </tr>\n",
              "    <tr>\n",
              "      <th>230136</th>\n",
              "      <td>Kanske en gentleman</td>\n",
              "      <td>1950</td>\n",
              "    </tr>\n",
              "    <tr>\n",
              "      <th>230227</th>\n",
              "      <td>Dick Barton at Bay</td>\n",
              "      <td>1950</td>\n",
              "    </tr>\n",
              "    <tr>\n",
              "      <th>230278</th>\n",
              "      <td>Alakh Niranjan</td>\n",
              "      <td>1950</td>\n",
              "    </tr>\n",
              "  </tbody>\n",
              "</table>\n",
              "<p>1081 rows × 2 columns</p>\n",
              "</div>"
            ],
            "text/plain": [
              "                       title  year\n",
              "68         Emei fei jian xia  1950\n",
              "176                  Hua jie  1950\n",
              "223                 Spy Hunt  1950\n",
              "376                  Sarumba  1950\n",
              "522             Onu affettim  1950\n",
              "...                      ...   ...\n",
              "230060  Deadly Is the Female  1950\n",
              "230125    Magkumpareng Putik  1950\n",
              "230136   Kanske en gentleman  1950\n",
              "230227    Dick Barton at Bay  1950\n",
              "230278        Alakh Niranjan  1950\n",
              "\n",
              "[1081 rows x 2 columns]"
            ]
          },
          "metadata": {},
          "execution_count": 109
        }
      ]
    },
    {
      "cell_type": "code",
      "metadata": {
        "id": "fGSdRDZP0ynt",
        "colab": {
          "base_uri": "https://localhost:8080/",
          "height": 418
        },
        "outputId": "db37107c-4de7-4019-ceab-12176295276e"
      },
      "source": [
        "# Cuantas peliculas fueron despues del año 1970?\n",
        "titles[(titles.year >= 1970)]"
      ],
      "execution_count": null,
      "outputs": [
        {
          "output_type": "execute_result",
          "data": {
            "text/html": [
              "<div>\n",
              "<style scoped>\n",
              "    .dataframe tbody tr th:only-of-type {\n",
              "        vertical-align: middle;\n",
              "    }\n",
              "\n",
              "    .dataframe tbody tr th {\n",
              "        vertical-align: top;\n",
              "    }\n",
              "\n",
              "    .dataframe thead th {\n",
              "        text-align: right;\n",
              "    }\n",
              "</style>\n",
              "<table border=\"1\" class=\"dataframe\">\n",
              "  <thead>\n",
              "    <tr style=\"text-align: right;\">\n",
              "      <th></th>\n",
              "      <th>title</th>\n",
              "      <th>year</th>\n",
              "    </tr>\n",
              "  </thead>\n",
              "  <tbody>\n",
              "    <tr>\n",
              "      <th>0</th>\n",
              "      <td>Mahler</td>\n",
              "      <td>1974</td>\n",
              "    </tr>\n",
              "    <tr>\n",
              "      <th>2</th>\n",
              "      <td>Ana Nojoom bent alasherah wamotalagah</td>\n",
              "      <td>2014</td>\n",
              "    </tr>\n",
              "    <tr>\n",
              "      <th>3</th>\n",
              "      <td>Malu de Bicicleta</td>\n",
              "      <td>2010</td>\n",
              "    </tr>\n",
              "    <tr>\n",
              "      <th>4</th>\n",
              "      <td>Nazareno Apostol: Boy Ahas</td>\n",
              "      <td>1989</td>\n",
              "    </tr>\n",
              "    <tr>\n",
              "      <th>5</th>\n",
              "      <td>Ya ba yu xin niang</td>\n",
              "      <td>1971</td>\n",
              "    </tr>\n",
              "    <tr>\n",
              "      <th>...</th>\n",
              "      <td>...</td>\n",
              "      <td>...</td>\n",
              "    </tr>\n",
              "    <tr>\n",
              "      <th>230400</th>\n",
              "      <td>Yeohoshin</td>\n",
              "      <td>1981</td>\n",
              "    </tr>\n",
              "    <tr>\n",
              "      <th>230402</th>\n",
              "      <td>El lobo negro</td>\n",
              "      <td>1981</td>\n",
              "    </tr>\n",
              "    <tr>\n",
              "      <th>230403</th>\n",
              "      <td>Komu na Rusi zhit...</td>\n",
              "      <td>1989</td>\n",
              "    </tr>\n",
              "    <tr>\n",
              "      <th>230404</th>\n",
              "      <td>Senotaji</td>\n",
              "      <td>2013</td>\n",
              "    </tr>\n",
              "    <tr>\n",
              "      <th>230406</th>\n",
              "      <td>Mio caro assassino</td>\n",
              "      <td>1972</td>\n",
              "    </tr>\n",
              "  </tbody>\n",
              "</table>\n",
              "<p>166665 rows × 2 columns</p>\n",
              "</div>"
            ],
            "text/plain": [
              "                                        title  year\n",
              "0                                      Mahler  1974\n",
              "2       Ana Nojoom bent alasherah wamotalagah  2014\n",
              "3                           Malu de Bicicleta  2010\n",
              "4                  Nazareno Apostol: Boy Ahas  1989\n",
              "5                          Ya ba yu xin niang  1971\n",
              "...                                       ...   ...\n",
              "230400                              Yeohoshin  1981\n",
              "230402                          El lobo negro  1981\n",
              "230403                   Komu na Rusi zhit...  1989\n",
              "230404                               Senotaji  2013\n",
              "230406                     Mio caro assassino  1972\n",
              "\n",
              "[166665 rows x 2 columns]"
            ]
          },
          "metadata": {},
          "execution_count": 110
        }
      ]
    },
    {
      "cell_type": "code",
      "metadata": {
        "id": "MlCcQiKm0ynu",
        "colab": {
          "base_uri": "https://localhost:8080/",
          "height": 418
        },
        "outputId": "0f627a37-0e0a-4d62-fc8d-8de2b1bda7b7"
      },
      "source": [
        "# Cuantas peliculas fueron hechas de 1970 a 1979\n",
        "titles[titles[\"year\"].between(1970,1979)]"
      ],
      "execution_count": null,
      "outputs": [
        {
          "output_type": "execute_result",
          "data": {
            "text/html": [
              "<div>\n",
              "<style scoped>\n",
              "    .dataframe tbody tr th:only-of-type {\n",
              "        vertical-align: middle;\n",
              "    }\n",
              "\n",
              "    .dataframe tbody tr th {\n",
              "        vertical-align: top;\n",
              "    }\n",
              "\n",
              "    .dataframe thead th {\n",
              "        text-align: right;\n",
              "    }\n",
              "</style>\n",
              "<table border=\"1\" class=\"dataframe\">\n",
              "  <thead>\n",
              "    <tr style=\"text-align: right;\">\n",
              "      <th></th>\n",
              "      <th>title</th>\n",
              "      <th>year</th>\n",
              "    </tr>\n",
              "  </thead>\n",
              "  <tbody>\n",
              "    <tr>\n",
              "      <th>0</th>\n",
              "      <td>Mahler</td>\n",
              "      <td>1974</td>\n",
              "    </tr>\n",
              "    <tr>\n",
              "      <th>5</th>\n",
              "      <td>Ya ba yu xin niang</td>\n",
              "      <td>1971</td>\n",
              "    </tr>\n",
              "    <tr>\n",
              "      <th>21</th>\n",
              "      <td>4 caporali e 1/2 e un colonnello tutto d'un pezzo</td>\n",
              "      <td>1973</td>\n",
              "    </tr>\n",
              "    <tr>\n",
              "      <th>34</th>\n",
              "      <td>Ramdenime interviu pirad sakitkhebze</td>\n",
              "      <td>1977</td>\n",
              "    </tr>\n",
              "    <tr>\n",
              "      <th>38</th>\n",
              "      <td>Coronel Delmiro Gouveia</td>\n",
              "      <td>1978</td>\n",
              "    </tr>\n",
              "    <tr>\n",
              "      <th>...</th>\n",
              "      <td>...</td>\n",
              "      <td>...</td>\n",
              "    </tr>\n",
              "    <tr>\n",
              "      <th>230345</th>\n",
              "      <td>Aggimeobshi baehari</td>\n",
              "      <td>1972</td>\n",
              "    </tr>\n",
              "    <tr>\n",
              "      <th>230369</th>\n",
              "      <td>Fish Hawk</td>\n",
              "      <td>1979</td>\n",
              "    </tr>\n",
              "    <tr>\n",
              "      <th>230384</th>\n",
              "      <td>Posledneye delo komissara Berlakha</td>\n",
              "      <td>1972</td>\n",
              "    </tr>\n",
              "    <tr>\n",
              "      <th>230388</th>\n",
              "      <td>Sillik</td>\n",
              "      <td>1970</td>\n",
              "    </tr>\n",
              "    <tr>\n",
              "      <th>230406</th>\n",
              "      <td>Mio caro assassino</td>\n",
              "      <td>1972</td>\n",
              "    </tr>\n",
              "  </tbody>\n",
              "</table>\n",
              "<p>18508 rows × 2 columns</p>\n",
              "</div>"
            ],
            "text/plain": [
              "                                                    title  year\n",
              "0                                                  Mahler  1974\n",
              "5                                      Ya ba yu xin niang  1971\n",
              "21      4 caporali e 1/2 e un colonnello tutto d'un pezzo  1973\n",
              "34                   Ramdenime interviu pirad sakitkhebze  1977\n",
              "38                                Coronel Delmiro Gouveia  1978\n",
              "...                                                   ...   ...\n",
              "230345                                Aggimeobshi baehari  1972\n",
              "230369                                          Fish Hawk  1979\n",
              "230384                 Posledneye delo komissara Berlakha  1972\n",
              "230388                                             Sillik  1970\n",
              "230406                                 Mio caro assassino  1972\n",
              "\n",
              "[18508 rows x 2 columns]"
            ]
          },
          "metadata": {},
          "execution_count": 114
        }
      ]
    },
    {
      "cell_type": "markdown",
      "metadata": {
        "id": "Jxen6Ar80ynu"
      },
      "source": [
        "Ahora se trabajara con el dataset de cast, importante tambien tener en cuneta que e sun dataset que se tendra que limpiar con el paso de las clases y dejarlo lo mas optimo posible"
      ]
    },
    {
      "cell_type": "code",
      "metadata": {
        "colab": {
          "base_uri": "https://localhost:8080/",
          "height": 418
        },
        "id": "u8gtGlsQWNcN",
        "outputId": "2041fa67-7688-4c47-c16e-5fd6297990fa"
      },
      "source": [
        "cast"
      ],
      "execution_count": null,
      "outputs": [
        {
          "output_type": "execute_result",
          "data": {
            "text/html": [
              "<div>\n",
              "<style scoped>\n",
              "    .dataframe tbody tr th:only-of-type {\n",
              "        vertical-align: middle;\n",
              "    }\n",
              "\n",
              "    .dataframe tbody tr th {\n",
              "        vertical-align: top;\n",
              "    }\n",
              "\n",
              "    .dataframe thead th {\n",
              "        text-align: right;\n",
              "    }\n",
              "</style>\n",
              "<table border=\"1\" class=\"dataframe\">\n",
              "  <thead>\n",
              "    <tr style=\"text-align: right;\">\n",
              "      <th></th>\n",
              "      <th>title</th>\n",
              "      <th>year</th>\n",
              "      <th>name</th>\n",
              "      <th>type</th>\n",
              "      <th>character</th>\n",
              "      <th>n</th>\n",
              "    </tr>\n",
              "  </thead>\n",
              "  <tbody>\n",
              "    <tr>\n",
              "      <th>0</th>\n",
              "      <td>Closet Monster</td>\n",
              "      <td>2015</td>\n",
              "      <td>Buffy #1</td>\n",
              "      <td>actor</td>\n",
              "      <td>Buffy 4</td>\n",
              "      <td>31.0</td>\n",
              "    </tr>\n",
              "    <tr>\n",
              "      <th>1</th>\n",
              "      <td>Suuri illusioni</td>\n",
              "      <td>1985</td>\n",
              "      <td>Homo $</td>\n",
              "      <td>actor</td>\n",
              "      <td>Guests</td>\n",
              "      <td>22.0</td>\n",
              "    </tr>\n",
              "    <tr>\n",
              "      <th>2</th>\n",
              "      <td>Battle of the Sexes</td>\n",
              "      <td>2017</td>\n",
              "      <td>$hutter</td>\n",
              "      <td>actor</td>\n",
              "      <td>Bobby Riggs Fan</td>\n",
              "      <td>10.0</td>\n",
              "    </tr>\n",
              "    <tr>\n",
              "      <th>3</th>\n",
              "      <td>Secret in Their Eyes</td>\n",
              "      <td>2015</td>\n",
              "      <td>$hutter</td>\n",
              "      <td>actor</td>\n",
              "      <td>2002 Dodger Fan</td>\n",
              "      <td>NaN</td>\n",
              "    </tr>\n",
              "    <tr>\n",
              "      <th>4</th>\n",
              "      <td>Steve Jobs</td>\n",
              "      <td>2015</td>\n",
              "      <td>$hutter</td>\n",
              "      <td>actor</td>\n",
              "      <td>1988 Opera House Patron</td>\n",
              "      <td>NaN</td>\n",
              "    </tr>\n",
              "    <tr>\n",
              "      <th>...</th>\n",
              "      <td>...</td>\n",
              "      <td>...</td>\n",
              "      <td>...</td>\n",
              "      <td>...</td>\n",
              "      <td>...</td>\n",
              "      <td>...</td>\n",
              "    </tr>\n",
              "    <tr>\n",
              "      <th>3564645</th>\n",
              "      <td>Stuttur Frakki</td>\n",
              "      <td>1993</td>\n",
              "      <td>Sveinbj?rg ??rhallsd?ttir</td>\n",
              "      <td>actress</td>\n",
              "      <td>Flugfreyja</td>\n",
              "      <td>24.0</td>\n",
              "    </tr>\n",
              "    <tr>\n",
              "      <th>3564646</th>\n",
              "      <td>Foxtrot</td>\n",
              "      <td>1988</td>\n",
              "      <td>Lilja ??risd?ttir</td>\n",
              "      <td>actress</td>\n",
              "      <td>D?ra</td>\n",
              "      <td>24.0</td>\n",
              "    </tr>\n",
              "    <tr>\n",
              "      <th>3564647</th>\n",
              "      <td>Niceland (Population. 1.000.002)</td>\n",
              "      <td>2004</td>\n",
              "      <td>Sigr??ur J?na ??risd?ttir</td>\n",
              "      <td>actress</td>\n",
              "      <td>Woman in Bus</td>\n",
              "      <td>26.0</td>\n",
              "    </tr>\n",
              "    <tr>\n",
              "      <th>3564648</th>\n",
              "      <td>U.S.S.S.S...</td>\n",
              "      <td>2003</td>\n",
              "      <td>Krist?n Andrea ??r?ard?ttir</td>\n",
              "      <td>actress</td>\n",
              "      <td>Afgr.dama ? bens?nst??</td>\n",
              "      <td>17.0</td>\n",
              "    </tr>\n",
              "    <tr>\n",
              "      <th>3564649</th>\n",
              "      <td>Bye Bye Blue Bird</td>\n",
              "      <td>1999</td>\n",
              "      <td>Rosa ? R?gvu</td>\n",
              "      <td>actress</td>\n",
              "      <td>Pensionatv?rtinde</td>\n",
              "      <td>NaN</td>\n",
              "    </tr>\n",
              "  </tbody>\n",
              "</table>\n",
              "<p>3564650 rows × 6 columns</p>\n",
              "</div>"
            ],
            "text/plain": [
              "                                    title  year  ...                character     n\n",
              "0                          Closet Monster  2015  ...                  Buffy 4  31.0\n",
              "1                         Suuri illusioni  1985  ...                   Guests  22.0\n",
              "2                     Battle of the Sexes  2017  ...          Bobby Riggs Fan  10.0\n",
              "3                    Secret in Their Eyes  2015  ...          2002 Dodger Fan   NaN\n",
              "4                              Steve Jobs  2015  ...  1988 Opera House Patron   NaN\n",
              "...                                   ...   ...  ...                      ...   ...\n",
              "3564645                    Stuttur Frakki  1993  ...               Flugfreyja  24.0\n",
              "3564646                           Foxtrot  1988  ...                     D?ra  24.0\n",
              "3564647  Niceland (Population. 1.000.002)  2004  ...             Woman in Bus  26.0\n",
              "3564648                      U.S.S.S.S...  2003  ...   Afgr.dama ? bens?nst??  17.0\n",
              "3564649                 Bye Bye Blue Bird  1999  ...        Pensionatv?rtinde   NaN\n",
              "\n",
              "[3564650 rows x 6 columns]"
            ]
          },
          "metadata": {},
          "execution_count": 116
        }
      ]
    },
    {
      "cell_type": "code",
      "metadata": {
        "id": "8tZBY7kj0ynv",
        "colab": {
          "base_uri": "https://localhost:8080/",
          "height": 328
        },
        "outputId": "59ab3dcc-1aa3-4f33-b5f0-3c3b8d0062c2"
      },
      "source": [
        "# Cuantos roles o papeles hubo en la pelicula \"The Godfather\"\n",
        "\n",
        "len(cast.loc[cast.titles == \"The Godfather\"])"
      ],
      "execution_count": null,
      "outputs": [
        {
          "output_type": "error",
          "ename": "AttributeError",
          "evalue": "ignored",
          "traceback": [
            "\u001b[0;31m---------------------------------------------------------------------------\u001b[0m",
            "\u001b[0;31mAttributeError\u001b[0m                            Traceback (most recent call last)",
            "\u001b[0;32m<ipython-input-115-d87e8396a619>\u001b[0m in \u001b[0;36m<module>\u001b[0;34m()\u001b[0m\n\u001b[1;32m      1\u001b[0m \u001b[0;31m# Cuantos roles o papeles hubo en la pelicula \"The Godfather\"\u001b[0m\u001b[0;34m\u001b[0m\u001b[0;34m\u001b[0m\u001b[0;34m\u001b[0m\u001b[0m\n\u001b[1;32m      2\u001b[0m \u001b[0;34m\u001b[0m\u001b[0m\n\u001b[0;32m----> 3\u001b[0;31m \u001b[0mlen\u001b[0m\u001b[0;34m(\u001b[0m\u001b[0mcast\u001b[0m\u001b[0;34m.\u001b[0m\u001b[0mloc\u001b[0m\u001b[0;34m[\u001b[0m\u001b[0mcast\u001b[0m\u001b[0;34m.\u001b[0m\u001b[0mtitles\u001b[0m \u001b[0;34m==\u001b[0m \u001b[0;34m\"The Godfather\"\u001b[0m\u001b[0;34m]\u001b[0m\u001b[0;34m)\u001b[0m\u001b[0;34m\u001b[0m\u001b[0;34m\u001b[0m\u001b[0m\n\u001b[0m",
            "\u001b[0;32m/usr/local/lib/python3.7/dist-packages/pandas/core/generic.py\u001b[0m in \u001b[0;36m__getattr__\u001b[0;34m(self, name)\u001b[0m\n\u001b[1;32m   5139\u001b[0m             \u001b[0;32mif\u001b[0m \u001b[0mself\u001b[0m\u001b[0;34m.\u001b[0m\u001b[0m_info_axis\u001b[0m\u001b[0;34m.\u001b[0m\u001b[0m_can_hold_identifiers_and_holds_name\u001b[0m\u001b[0;34m(\u001b[0m\u001b[0mname\u001b[0m\u001b[0;34m)\u001b[0m\u001b[0;34m:\u001b[0m\u001b[0;34m\u001b[0m\u001b[0;34m\u001b[0m\u001b[0m\n\u001b[1;32m   5140\u001b[0m                 \u001b[0;32mreturn\u001b[0m \u001b[0mself\u001b[0m\u001b[0;34m[\u001b[0m\u001b[0mname\u001b[0m\u001b[0;34m]\u001b[0m\u001b[0;34m\u001b[0m\u001b[0;34m\u001b[0m\u001b[0m\n\u001b[0;32m-> 5141\u001b[0;31m             \u001b[0;32mreturn\u001b[0m \u001b[0mobject\u001b[0m\u001b[0;34m.\u001b[0m\u001b[0m__getattribute__\u001b[0m\u001b[0;34m(\u001b[0m\u001b[0mself\u001b[0m\u001b[0;34m,\u001b[0m \u001b[0mname\u001b[0m\u001b[0;34m)\u001b[0m\u001b[0;34m\u001b[0m\u001b[0;34m\u001b[0m\u001b[0m\n\u001b[0m\u001b[1;32m   5142\u001b[0m \u001b[0;34m\u001b[0m\u001b[0m\n\u001b[1;32m   5143\u001b[0m     \u001b[0;32mdef\u001b[0m \u001b[0m__setattr__\u001b[0m\u001b[0;34m(\u001b[0m\u001b[0mself\u001b[0m\u001b[0;34m,\u001b[0m \u001b[0mname\u001b[0m\u001b[0;34m:\u001b[0m \u001b[0mstr\u001b[0m\u001b[0;34m,\u001b[0m \u001b[0mvalue\u001b[0m\u001b[0;34m)\u001b[0m \u001b[0;34m->\u001b[0m \u001b[0;32mNone\u001b[0m\u001b[0;34m:\u001b[0m\u001b[0;34m\u001b[0m\u001b[0;34m\u001b[0m\u001b[0m\n",
            "\u001b[0;31mAttributeError\u001b[0m: 'DataFrame' object has no attribute 'titles'"
          ]
        }
      ]
    },
    {
      "cell_type": "code",
      "metadata": {
        "id": "ieHC6v1q0yny"
      },
      "source": [
        ""
      ],
      "execution_count": null,
      "outputs": []
    }
  ]
}