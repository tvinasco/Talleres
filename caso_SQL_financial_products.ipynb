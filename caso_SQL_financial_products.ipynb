{
  "nbformat": 4,
  "nbformat_minor": 0,
  "metadata": {
    "kernelspec": {
      "display_name": "Python 3",
      "language": "python",
      "name": "python3"
    },
    "language_info": {
      "codemirror_mode": {
        "name": "ipython",
        "version": 3
      },
      "file_extension": ".py",
      "mimetype": "text/x-python",
      "name": "python",
      "nbconvert_exporter": "python",
      "pygments_lexer": "ipython3",
      "version": "3.7.10"
    },
    "colab": {
      "name": "caso_SQL_financial_products.ipynb",
      "provenance": [],
      "collapsed_sections": [
        "a0vu-KB0KhdF",
        "dkipnHwHKhdT",
        "vKRqQLagKhdW",
        "MuL0smMhKhdY",
        "j6EEdHXqKhdb",
        "Ok87C2p3Khdb",
        "YVgi3bfYKhdc"
      ]
    }
  },
  "cells": [
    {
      "cell_type": "markdown",
      "metadata": {
        "id": "Z2AbmW0YKhci"
      },
      "source": [
        "# ¿Cómo podemos optimizar nuestras ventas de productos financieros?"
      ]
    },
    {
      "cell_type": "markdown",
      "metadata": {
        "id": "GyVds-ceKhcn"
      },
      "source": [
        "## Objetivos (2 min)\n",
        "\n",
        "Al final de este caso, estará familiarizado con las bases de datos. Específicamente, aprenderá las diferencias entre los principales tipos de bases de datos y los diferentes sistemas de administración de bases de datos disponibles. También se introducirán consultas SQL básicas.\n",
        "\n",
        "También estará expuesto a la jerga técnica de las bases de datos. Si bien es probable que no utilice estos términos a diario, le brindarán una comprensión más integral de la disciplina de la ingeniería de datos y facilitarán las conversaciones entre usted y otros ingenieros de datos."
      ]
    },
    {
      "cell_type": "markdown",
      "metadata": {
        "id": "GNwng6gBKhcp"
      },
      "source": [
        "## Introduccion (5 min)\n",
        "\n",
        "**Contexto de negocio.** Es analista de datos en una gran empresa de servicios financieros que vende una cartera diversa de productos. Para realizar estas ventas, la firma cuenta con un centro de llamadas donde los agentes de ventas hacen llamadas tanto a los clientes actuales como a los potenciales. A la empresa le gustaría que se sumergiera en sus datos para diseñar estrategias para aumentar sus ingresos o reducir sus costos. Específicamente, les gustaría duplicar sus clientes más confiables y eliminar a los agentes de ventas que no están produciendo resultados.\n",
        "\n",
        "**Problema de negocio.** La empresa desea responder a las siguientes preguntas: **\"¿Qué tipo de clientes son más probable que compren nuestro producto? ¿Y cuáles de mis agentes de ventas son los más/menos productivos?**\n",
        "\n",
        "\n",
        "**Contexto analitico.** Los datos se dividen en 3 tablas: \"Agentes\", \"Llamadas\" y \"Clientes\", que se encuentran en archivos CSV. Sin embargo, a diferencia de los casos anteriores, primero leeremos estos archivos CSV en una base de datos SQLite creada dentro de Python. Aprenderá en qué se diferencia esta base de datos de los archivos CSV y cómo interactuar con ella utilizando SQL para extraer información útil.\n",
        "\n",
        "El caso esta estructurado de la siguiente forma (1) aprendera los fundamentos de databases y SQL; (2) usara SQL `SELECT` statements para identificar los clientes potencialmente interesantes; y (4) usara funciones de agregacion de SQL para calcular estadísticas resumidas sobre sus agentes e identificar los más / menos productivos."
      ]
    },
    {
      "cell_type": "markdown",
      "metadata": {
        "id": "RKHKmetnKhcr"
      },
      "source": [
        "## Porque databases? (5 min)"
      ]
    },
    {
      "cell_type": "markdown",
      "metadata": {
        "id": "weMpMwtmKhcs"
      },
      "source": [
        "Si bien hemos estado tratando con datos almacenados en archivos CSV hasta ahora, ninguna organización de datos seria ejecuta sus operaciones desde archivos CSV en la computadora de una sola persona. Esta práctica presenta todo tipo de peligros, que incluyen, entre otros:\n",
        "\n",
        "1. Destrucción de ese único dispositivo\n",
        "2. Destrucción de los archivos de ese dispositivo\n",
        "3. Incapacidad para conectarse al dispositivo de esa persona desde otro dispositivo que requiera los datos\n",
        "4. Incapacidad para almacenar más que una cantidad limitada de datos (ya que un solo dispositivo no tiene tanta memoria)\n",
        "\n",
        "Por lo tanto, nuestros datos deben almacenarse en otro lugar si queremos acceder a ellos de manera confiable en el futuro y, lo que es más importante, compartirlos y trabajar en ellos con otros. La **base de datos** es la ubicación clásica donde las organizaciones modernas han optado por almacenar sus datos para uso profesional. Las bases de datos han sido un tema de investigación desde finales de la década de 1960. Muchos proveedores de tecnología se dieron cuenta de esto y desarrollaron software de bases de datos para que las empresas lo consumieran. Algunos de estos proveedores y productos son:\n",
        "\n",
        "1. Microsoft, initially with Microsoft Access and more recently with Microsoft SQL Server\n",
        "2. Oracle, with their Oracle database and MySQL (a popular open source database)\n",
        "3. The “PostgreSQL Global Development Group”, with the open-source PostgreSQL\n",
        "\n",
        "En todas las databases se implementa el lenguage SQL y esto es similar a lo largo de todas las plataformas. Aunque existen algunas diferencias. Comparando ```MySQL``` vs. ```PostgreSQL```, son los dos sistemas mas populares, MySQL no implementa ```FULL JOINS``` (aprenderas sobre los ```JOIN```s mas adelante). PostgreSQL también admite algunas funciones de agregación más avanzadas para estadísticas (las conocerá pronto). Por ejemplo, en PostgreSQL puede realizar regresiones directamente en los datos antes de recuperarlos, mientras que MySQL solo admite operaciones de estadísticas básicas. Sin embargo, esta sobrecarga conduce a un ligero impacto en el rendimiento, lo que hace que MySQL sea más rápido para tareas de recuperación simples.\n",
        "    \n",
        "Para los propósitos de este estudio de caso, usaremos PostgreSQL."
      ]
    },
    {
      "cell_type": "markdown",
      "metadata": {
        "id": "_H5cd8SyKhcu"
      },
      "source": [
        "## Tipos de databases (15 min)\n",
        "\n",
        "En este punto, es posible que crea que las bases de datos se pueden considerar como una colección de datos. Esto es cierto, pero desafortunadamente no es tan simple. Los datos no se pueden simplemente arrojar en una base de datos de la misma manera que tiras tus calcetines en el cajón de tus calcetines. Dependiendo de sus necesidades de datos, elegirá entre uno de los dos tipos principales de bases de datos."
      ]
    },
    {
      "cell_type": "markdown",
      "metadata": {
        "id": "Eek6Ls4UKhcv"
      },
      "source": [
        "### Bases de datos relacionales \n",
        "\n",
        "El tipo de base de datos mas comun es la **relational database**, y los sitemas que manejann este tipo de databases se denominan **Relational Database Management Systems (RDBMS)**. Relational databases vienene de los inicios de 1970s y puede ser considerado como el primer tipo de database en crearse. Continuando con el ejemplo de los calcetines, en este caso tendremos slots identicos, cada uno con un par de calcetines. Los socks pueden tener diferentes meterisles, colores , marcas, etc pero necesitan ajustarse en un slot.\n",
        "\n",
        "Las bases de datos relacionales tratan con \"datos relacionales\", que es una forma elegante de decir datos \"tabulares\". Este tipo de conjunto de datos consta de filas y columnas (es decir, tablas) donde cada fila corresponde a una observación y cada columna corresponde a un atributo de esa observación. Entonces, por ejemplo, si volvemos al ejemplo donde estábamos haciendo un seguimiento de nuestros amigos y sus teléfonos, cada fila en el archivo (o tabla) representa a un amigo y cada columna representa la información que queremos rastrear sobre ese amigo ( nombre y número de teléfono). La celda en la intersección de la fila y la columna contiene los datos reales. Los datos relacionales se manipulan utilizando un lenguaje específico llamado **SQL(Lenguaje de consulta estructurado)**, del cual aprenderemos pronto.\n",
        "\n",
        "Una forma sencilla de conceptualizar una tabla dentro de una base de datos relacional es como un archivo CSV \"copiado\" a la base de datos. De hecho, muchas bases de datos ofrecen esa posibilidad (suponiendo que su archivo tenga el formato correcto, por supuesto)."
      ]
    },
    {
      "cell_type": "markdown",
      "metadata": {
        "id": "IuGCCtQ2Khcx"
      },
      "source": [
        "### Databases NoSQL\n",
        "Hace unos 20 años, con la llegada de Internet y la necesidad de almacenar y procesar datos no estructurados (es decir, datos que no encajan bien en el paradigma fila por columna), los desarrolladores comenzaron a discutir otro tipo de base de datos, que finalmente terminó siendo referido como una **base de datos NoSQL**. Estas bases de datos no son relacionales y también están construidas con reglas más \"relajadas\" en comparación con sus predecesoras. Las bases de datos NoSQL son más como un gran cajón sin ranuras y no exclusivamente para calcetines. Puede optar por usar este cajón principalmente para calcetines de todos los tamaños (pequeños, grandes, tal vez incluso un calcetín suelto por sí solo), pero también podría contener otros artículos como suéteres o pantalones.\n",
        "\n",
        "Como su nombre lo indica, las bases de datos NoSQL no se basan en SQL, aunque muchas de ellas le permiten utilizar SQL para interactuar con ellas. En esencia, una base de datos NoSQL es simplemente un almacén de valores clave. Es decir, todo lo que almacena (a veces llamado **documento**) en esta base de datos tiene una clave asociada. El trabajo de la base de datos es simplemente ayudarlo a recuperar el documento deseado lo más rápido posible. Nada predetermina lo que contiene un documento (es decir, no tiene un concepto de \"tablas\"); sin embargo, esta flexibilidad tiene un precio. Cuando recupera un documento, debe realizar comprobaciones adicionales para garantizar su validez, ya que la base de datos no lo hará automáticamente como lo haría con una base de datos relacional. Esto puede ser deseable o no dependiendo de su aplicación particular."
      ]
    },
    {
      "cell_type": "markdown",
      "metadata": {
        "id": "ZbeSiclhKhc1"
      },
      "source": [
        "### When to pick one over the other\n",
        "\n",
        "La eleccion entre RDBMS vs. NoSQL depende exclusivamente de los requerimientos de tu proyecto. Ambos sistemas priorizan partes diferentes del [**CAP Theorem**](https://en.wikipedia.org/wiki/CAP_theorem). En pocas palabras, el teorema de CAP dice que un sistema de base de datos no puede tener los tres siguientes:\n",
        "\n",
        "- **Consistencia**: cada lectura de la base de datos devolverá la versión de escritura más actualizada o un error\n",
        "- **Disponibilidad**: cada solicitud recibe una respuesta (sin error), sin la garantía de que contiene la versión de escritura más actualizada\n",
        "- **Tolerancia de partición**: el sistema continúa funcionando sin importar la calidad de la red entre los nodos\n",
        "\n",
        "NoSQL prefiere ser tolerante a la partición en lugar de coherente, mientras que RDBMS es lo opuesto. En determinadas aplicaciones, la coherencia es imperativa, lo que a menudo le obliga a utilizar RDBMS. Por ejemplo, si eres un banco y consultas el saldo de un cliente, quieres garantizar que el número que obtienes es el más reciente y no el de ayer.\n",
        "    \n",
        "Para el resto del caso, solo consideraremos los sistemas RDBMS."
      ]
    },
    {
      "cell_type": "markdown",
      "metadata": {
        "id": "Ax02hTtLKhc3"
      },
      "source": [
        "## Que es un \"SQL\" ? (8 min)"
      ]
    },
    {
      "cell_type": "markdown",
      "metadata": {
        "id": "U8xzTXVaKhc5"
      },
      "source": [
        "De modo que hemos ido agregando referencias a SQL en todo momento, pero no hemos explicado qué es. ¡Ahora lo haremos! Al igual que los datos no pueden sobrevivir sin una base de datos, una base de datos no se puede utilizar sin SQL. SQL se utiliza para una amplia variedad de tareas, que incluyen, entre otras, la extracción de datos, la creación de la estructura interna de una base de datos (en forma de tablas) y la lectura y escritura de datos en estas tablas. SQL es un sistema internacional publicado por [ISO](https://www.iso.org/standard/63555.html) por lo que es el lenguaje de facto al que se adhieren todos los sistemas de bases de datos.\n",
        "\n",
        "En este caso, escribiremos consultas SQL utilizando el [`SQLAlchemy`](https://www.sqlalchemy.org/) un paquete dentro de Python. Esto le permite interactuar directamente con bases de datos relacionales sin salir del entorno de Python, mientras usa una sintaxis idéntica a la que escribiría fuera de Python. Ejecute el siguiente código para configurar este marco:"
      ]
    },
    {
      "cell_type": "code",
      "metadata": {
        "colab": {
          "base_uri": "https://localhost:8080/"
        },
        "id": "JI2KwPvFLw10",
        "outputId": "15288efb-cb71-42e5-9507-155e6078e631"
      },
      "source": [
        "from google.colab import drive\n",
        "drive.mount('/content/drive')\n",
        "%cd '/content/drive/MyDrive/Data_Science/Actividades/caso_practico_SQL'"
      ],
      "execution_count": null,
      "outputs": [
        {
          "output_type": "stream",
          "name": "stdout",
          "text": [
            "Drive already mounted at /content/drive; to attempt to forcibly remount, call drive.mount(\"/content/drive\", force_remount=True).\n",
            "/content/drive/MyDrive/Data_Science/Actividades/caso_practico_SQL\n"
          ]
        }
      ]
    },
    {
      "cell_type": "code",
      "metadata": {
        "id": "aXuAb_GrKhc6"
      },
      "source": [
        "import pandas as pd\n",
        "from sqlalchemy import create_engine, text\n",
        "\n",
        "#maximum number of rows to display\n",
        "pd.options.display.max_rows = 10\n",
        "\n",
        "engine=create_engine('sqlite://')\n",
        "df = pd.read_csv('customer.csv').to_sql('customer', engine, if_exists='replace', index=False)\n",
        "df = pd.read_csv('agent.csv').to_sql('agent', engine, if_exists='replace', index=False)\n",
        "df = pd.read_csv('call.csv').to_sql('call', engine, if_exists='replace', index=False)\n",
        "\n",
        "def runQuery(sql):\n",
        "    result = engine.connect().execute((text(sql)))\n",
        "    return pd.DataFrame(result.fetchall(), columns=result.keys())"
      ],
      "execution_count": null,
      "outputs": []
    },
    {
      "cell_type": "code",
      "metadata": {
        "id": "YCAuvOpqLu_a"
      },
      "source": [
        ""
      ],
      "execution_count": null,
      "outputs": []
    },
    {
      "cell_type": "markdown",
      "metadata": {
        "id": "-wAXoqwUKhc9"
      },
      "source": [
        "Las columnas en cada una de las tablas se explican a continuacion:\n",
        "\n",
        "**agent.csv**:\n",
        "- **AgentID**: the primary key of the table (more on this below)\n",
        "- **Name**: the name of the agent\n",
        "\n",
        "**call.csv**:\n",
        "- **CallID**: the primary key of the table\n",
        "- **AgentID**: a foreign key (more on this below) to the agents table of the agent who made the call\n",
        "- **CustomerID**: a foreign key to the customers table of the customer who is being called\n",
        "- **PickedUp**: a Boolean that is 1 if the customer picked up and 0 if they did not\n",
        "- **Duration**: integer of the duration of the call\n",
        "- **ProductSold**: a Boolean that is 1 if the agent made a sale and 0 if they did not\n",
        "\n",
        "**customer.csv**:\n",
        "- **CustomerID**: the primary key of the table\n",
        "- **Name**: the name of the customer\n",
        "- **Occupation**: the occupation of the customer. 'Unemployed' if no occupation\n",
        "- **Email**: the email of the customer\n",
        "- **Company**: the company that the customer works for\n",
        "- **PhoneNumber**: the phone number of the customer\n",
        "- **Age**: the age of the customer\n",
        "\n",
        "\n",
        "La estructura de la base de datos anterior se puede visualizar como se muestra a continuación. Esto se llama **Diagrama de relación de entidades (ER)**, que denota las tablas presentes en la base de datos, las columnas en las tablas y las relaciones entre las tablas:\n",
        "![ER Diagram](images/database_schema.png)\n",
        "\n",
        "El diagrama anterior ofrece una buena descripción general de cómo está estructurado el esquema y cómo se interconectan los datos."
      ]
    },
    {
      "cell_type": "markdown",
      "metadata": {
        "id": "0soM8WymKhc-"
      },
      "source": [
        "## Encontrar los clientes potenciales de interes (20 min)\n",
        "\n",
        "Lo más importante que hará en SQL es extraer un subconjunto de los datos de una tabla SQL según un conjunto de reglas. Esto se logra usando la declaración **`SELECT`** y la siguiente sintaxis:\n",
        "\n",
        "![Select Anatomy](./images/select_anatomy.png)\n",
        "\n",
        "Traduzcamos esta imagen en palabras:\n",
        "\n",
        "1. Inicia con la palabra `SELECT`\n",
        "2. Coloca los nombres de las columnas que seleccionaras, separadas por comas(de forma alternativa, puedes usar el simbolo `*`)\n",
        "3. continua con la palabra `FROM`\n",
        "4. Termina con el nombre de la tabla que deseas seleccionar\n",
        "5. Opcionalmente, puedes usar el `WHERE` para obtener resultados que solo satisfagan ciertas condiciones (similar a como se escribe en python `if...then`)\n",
        "\n",
        "Dado que la empresa quiere profundizar en sus clientes, comencemos por extraer algunos de sus datos de nuestros archivos; es decir, información sobre clientes que no están desempleados (y por lo tanto es más probable que nos compren)."
      ]
    },
    {
      "cell_type": "markdown",
      "metadata": {
        "id": "S89bITjOKhc_"
      },
      "source": [
        "### Ejercicio 1: (5 min)\n",
        "\n",
        "Escriba una consulta que seleccione el ID y el nombre del cliente de la tabla `Customer`, mostrando solo los resultados de los clientes que no están desempleados. Recuerde escribir su consulta como una cadena de varias líneas (encerrada entre un par de comillas triples `\"\"\"`) y pasarla a la función `runQuery()`definida en el marco anterior para verificar su trabajo."
      ]
    },
    {
      "cell_type": "markdown",
      "metadata": {
        "id": "pKzjvJAsKhc_"
      },
      "source": [
        "**Respuesta**. "
      ]
    },
    {
      "cell_type": "markdown",
      "metadata": {
        "id": "2YtxK4U8KhdA"
      },
      "source": [
        "```SQL\n",
        "SELECT CustomerID, Name\n",
        "FROM Customer\n",
        "WHERE Occupation != 'Unemployed'\n",
        "```"
      ]
    },
    {
      "cell_type": "code",
      "metadata": {
        "colab": {
          "base_uri": "https://localhost:8080/",
          "height": 423
        },
        "id": "GF3LDSGgKhdA",
        "outputId": "09b9468c-d64f-4ea7-d4f3-3ba47117436d"
      },
      "source": [
        "query1 = \"\"\"SELECT CustomerID, Name ,Occupation\n",
        "FROM Customer\n",
        "WHERE Occupation != 'Unemployed'\"\"\"\n",
        "runQuery(query1)"
      ],
      "execution_count": null,
      "outputs": [
        {
          "output_type": "execute_result",
          "data": {
            "text/html": [
              "<div>\n",
              "<style scoped>\n",
              "    .dataframe tbody tr th:only-of-type {\n",
              "        vertical-align: middle;\n",
              "    }\n",
              "\n",
              "    .dataframe tbody tr th {\n",
              "        vertical-align: top;\n",
              "    }\n",
              "\n",
              "    .dataframe thead th {\n",
              "        text-align: right;\n",
              "    }\n",
              "</style>\n",
              "<table border=\"1\" class=\"dataframe\">\n",
              "  <thead>\n",
              "    <tr style=\"text-align: right;\">\n",
              "      <th></th>\n",
              "      <th>CustomerID</th>\n",
              "      <th>Name</th>\n",
              "      <th>Occupation</th>\n",
              "    </tr>\n",
              "  </thead>\n",
              "  <tbody>\n",
              "    <tr>\n",
              "      <th>0</th>\n",
              "      <td>1</td>\n",
              "      <td>Michael Gonzalez</td>\n",
              "      <td>Student</td>\n",
              "    </tr>\n",
              "    <tr>\n",
              "      <th>1</th>\n",
              "      <td>2</td>\n",
              "      <td>Amanda Wilson</td>\n",
              "      <td>Student</td>\n",
              "    </tr>\n",
              "    <tr>\n",
              "      <th>2</th>\n",
              "      <td>3</td>\n",
              "      <td>Robert Thomas</td>\n",
              "      <td>Engineer, structural</td>\n",
              "    </tr>\n",
              "    <tr>\n",
              "      <th>3</th>\n",
              "      <td>4</td>\n",
              "      <td>Eddie Hall</td>\n",
              "      <td>Surgeon</td>\n",
              "    </tr>\n",
              "    <tr>\n",
              "      <th>4</th>\n",
              "      <td>6</td>\n",
              "      <td>Maria Johnson</td>\n",
              "      <td>Engineer, aeronautical</td>\n",
              "    </tr>\n",
              "    <tr>\n",
              "      <th>...</th>\n",
              "      <td>...</td>\n",
              "      <td>...</td>\n",
              "      <td>...</td>\n",
              "    </tr>\n",
              "    <tr>\n",
              "      <th>755</th>\n",
              "      <td>994</td>\n",
              "      <td>Ruben Steele</td>\n",
              "      <td>Orthoptist</td>\n",
              "    </tr>\n",
              "    <tr>\n",
              "      <th>756</th>\n",
              "      <td>995</td>\n",
              "      <td>Ashley Young</td>\n",
              "      <td>Student</td>\n",
              "    </tr>\n",
              "    <tr>\n",
              "      <th>757</th>\n",
              "      <td>996</td>\n",
              "      <td>Mr. Steven Smith</td>\n",
              "      <td>Engineer, structural</td>\n",
              "    </tr>\n",
              "    <tr>\n",
              "      <th>758</th>\n",
              "      <td>997</td>\n",
              "      <td>Mark Smith</td>\n",
              "      <td>Engineer, control and instrumentation</td>\n",
              "    </tr>\n",
              "    <tr>\n",
              "      <th>759</th>\n",
              "      <td>999</td>\n",
              "      <td>Karen Barber</td>\n",
              "      <td>Doctor, general practice</td>\n",
              "    </tr>\n",
              "  </tbody>\n",
              "</table>\n",
              "<p>760 rows × 3 columns</p>\n",
              "</div>"
            ],
            "text/plain": [
              "     CustomerID              Name                             Occupation\n",
              "0             1  Michael Gonzalez                                Student\n",
              "1             2     Amanda Wilson                                Student\n",
              "2             3     Robert Thomas                   Engineer, structural\n",
              "3             4        Eddie Hall                                Surgeon\n",
              "4             6     Maria Johnson                 Engineer, aeronautical\n",
              "..          ...               ...                                    ...\n",
              "755         994      Ruben Steele                             Orthoptist\n",
              "756         995      Ashley Young                                Student\n",
              "757         996  Mr. Steven Smith                   Engineer, structural\n",
              "758         997        Mark Smith  Engineer, control and instrumentation\n",
              "759         999      Karen Barber               Doctor, general practice\n",
              "\n",
              "[760 rows x 3 columns]"
            ]
          },
          "metadata": {},
          "execution_count": 7
        }
      ]
    },
    {
      "cell_type": "markdown",
      "metadata": {
        "id": "W0_7TUwCKhdC"
      },
      "source": [
        "Por supuesto, para los nombres, es sensato intentar enumerarlos en orden alfabético. SQL nos permite hacer esto con bastante facilidad con la instrucción `ORDER BY`. A continuación, le sigue una lista de columnas separadas por comas en las que desea ordenar sus resultados (las columnas que aparecen primero tienen prioridad en el orden posterior). Opcionalmente, puede agregar la palabra clave `ASC` o` DESC` (abreviatura de ascendente y descendente, respectivamente) después de cada columna para determinar el tipo de orden (por ejemplo, alfabético o alfabético inverso para una columna de cadena).\n",
        "\n",
        "También podemos usar la declaración `AS` para cambiar el nombre de una columna devuelta por su consulta. Sin embargo, este cambio es solo temporal y solo es válido para esa consulta en particular. Por ejemplo, podemos cambiar el nombre de la columna `Name` a` CustomerName` y ordenarla alfabéticamente. Esta operación se conoce como **aliasing**:\n"
      ]
    },
    {
      "cell_type": "markdown",
      "metadata": {
        "id": "IcLiTvw_KhdC"
      },
      "source": [
        "```SQL\n",
        "SELECT CustomerID, Name AS CustomerName\n",
        "FROM Customer\n",
        "WHERE Occupation != 'Unemployed'\n",
        "ORDER BY CustomerName\n",
        "```"
      ]
    },
    {
      "cell_type": "code",
      "metadata": {
        "colab": {
          "base_uri": "https://localhost:8080/",
          "height": 423
        },
        "id": "1PzMbO20KhdD",
        "outputId": "e5b7e850-b7c2-4eca-91e7-fb215471a5e7"
      },
      "source": [
        "query2 = \"\"\"SELECT CustomerID, Name AS CustomerName\n",
        "FROM Customer\n",
        "WHERE Occupation != 'Unemployed'\n",
        "ORDER BY CustomerName DESC\n",
        "\"\"\"\n",
        "runQuery(query2)"
      ],
      "execution_count": null,
      "outputs": [
        {
          "output_type": "execute_result",
          "data": {
            "text/html": [
              "<div>\n",
              "<style scoped>\n",
              "    .dataframe tbody tr th:only-of-type {\n",
              "        vertical-align: middle;\n",
              "    }\n",
              "\n",
              "    .dataframe tbody tr th {\n",
              "        vertical-align: top;\n",
              "    }\n",
              "\n",
              "    .dataframe thead th {\n",
              "        text-align: right;\n",
              "    }\n",
              "</style>\n",
              "<table border=\"1\" class=\"dataframe\">\n",
              "  <thead>\n",
              "    <tr style=\"text-align: right;\">\n",
              "      <th></th>\n",
              "      <th>CustomerID</th>\n",
              "      <th>CustomerName</th>\n",
              "    </tr>\n",
              "  </thead>\n",
              "  <tbody>\n",
              "    <tr>\n",
              "      <th>0</th>\n",
              "      <td>392</td>\n",
              "      <td>Zachary Wilson</td>\n",
              "    </tr>\n",
              "    <tr>\n",
              "      <th>1</th>\n",
              "      <td>421</td>\n",
              "      <td>Zachary Ruiz</td>\n",
              "    </tr>\n",
              "    <tr>\n",
              "      <th>2</th>\n",
              "      <td>952</td>\n",
              "      <td>Yolanda White</td>\n",
              "    </tr>\n",
              "    <tr>\n",
              "      <th>3</th>\n",
              "      <td>715</td>\n",
              "      <td>Yesenia Wright</td>\n",
              "    </tr>\n",
              "    <tr>\n",
              "      <th>4</th>\n",
              "      <td>699</td>\n",
              "      <td>Willie Greene</td>\n",
              "    </tr>\n",
              "    <tr>\n",
              "      <th>...</th>\n",
              "      <td>...</td>\n",
              "      <td>...</td>\n",
              "    </tr>\n",
              "    <tr>\n",
              "      <th>755</th>\n",
              "      <td>985</td>\n",
              "      <td>Alan Mitchell</td>\n",
              "    </tr>\n",
              "    <tr>\n",
              "      <th>756</th>\n",
              "      <td>786</td>\n",
              "      <td>Alan Chambers</td>\n",
              "    </tr>\n",
              "    <tr>\n",
              "      <th>757</th>\n",
              "      <td>226</td>\n",
              "      <td>Adam Ward</td>\n",
              "    </tr>\n",
              "    <tr>\n",
              "      <th>758</th>\n",
              "      <td>622</td>\n",
              "      <td>Aaron Rose</td>\n",
              "    </tr>\n",
              "    <tr>\n",
              "      <th>759</th>\n",
              "      <td>900</td>\n",
              "      <td>Aaron Gutierrez</td>\n",
              "    </tr>\n",
              "  </tbody>\n",
              "</table>\n",
              "<p>760 rows × 2 columns</p>\n",
              "</div>"
            ],
            "text/plain": [
              "     CustomerID     CustomerName\n",
              "0           392   Zachary Wilson\n",
              "1           421     Zachary Ruiz\n",
              "2           952    Yolanda White\n",
              "3           715   Yesenia Wright\n",
              "4           699    Willie Greene\n",
              "..          ...              ...\n",
              "755         985    Alan Mitchell\n",
              "756         786    Alan Chambers\n",
              "757         226        Adam Ward\n",
              "758         622       Aaron Rose\n",
              "759         900  Aaron Gutierrez\n",
              "\n",
              "[760 rows x 2 columns]"
            ]
          },
          "metadata": {},
          "execution_count": 8
        }
      ]
    },
    {
      "cell_type": "markdown",
      "metadata": {
        "id": "ZtByCFz7KhdE"
      },
      "source": [
        "Este es un gran primer paso; sin embargo, mientras elabora la lista de clientes que no están desempleados, inevitablemente pasa mucho tiempo mirando las diferentes profesiones que tienen sus clientes y se da cuenta de la frecuencia con la que aparecen ingenieros en su base de datos. Usted sabe que los trabajos de ingeniería tienden a exigir salarios más altos en estos días, por lo que decide intentar extraer una lista de todos los tipos únicos de trabajos de ingeniería que están representados en su base de datos. Para asegurarse de que no obtenga títulos de trabajo duplicados en los resultados de su consulta, deberá escribir la palabra clave `DISTINCT` inmediatamente después de` SELECT` en su consulta."
      ]
    },
    {
      "cell_type": "markdown",
      "metadata": {
        "id": "a0vu-KB0KhdF"
      },
      "source": [
        "### Ejercicio 2: (5 min)\n",
        "Escriba una consulta que produzca una lista, en orden alfabético, de todas las distintas ocupaciones en la tabla `Customer` que contengan la palabra\" Ingeniero \".\n",
        "\n",
        "**Sugerencia:** El operador `LIKE` se puede utilizar cuando desee buscar valores similares. Se incluye como parte de una cláusula `WHERE`. Debe complementarse con el símbolo \"%\", que es un comodín que representa cero, uno o varios caracteres. Por ejemplo, una cláusula `WHERE` válida que utiliza el operador` LIKE` es `WHERE Name LIKE 'Matt%'`, que devolvería cualquier resultado donde el nombre de la persona comience con la palabra \"Matt\"; p.ej. \"Matt\" o \"Matteo\" o \"Matthew\", etc."
      ]
    },
    {
      "cell_type": "markdown",
      "metadata": {
        "id": "7WEihUfmKhdH"
      },
      "source": [
        "**Respuesta.**"
      ]
    },
    {
      "cell_type": "markdown",
      "metadata": {
        "id": "OFGQhaXUKhdH"
      },
      "source": [
        "```SQL\n",
        "SELECT DISTINCT Occupation\n",
        "FROM Customer\n",
        "WHERE Occupation LIKE '%Engineer%'\n",
        "ORDER BY Occupation\n",
        "```"
      ]
    },
    {
      "cell_type": "code",
      "metadata": {
        "id": "chJL8zsTKhdI",
        "outputId": "7a5b492e-1115-4991-f291-1c7736acef8a"
      },
      "source": [
        "query3 = \"\"\"SELECT DISTINCT Occupation\n",
        "FROM Customer\n",
        "WHERE Occupation LIKE '%Engineer%'\n",
        "ORDER BY Occupation DESC\"\"\"\n",
        "runQuery(query3)"
      ],
      "execution_count": null,
      "outputs": [
        {
          "data": {
            "text/html": [
              "<div>\n",
              "<style scoped>\n",
              "    .dataframe tbody tr th:only-of-type {\n",
              "        vertical-align: middle;\n",
              "    }\n",
              "\n",
              "    .dataframe tbody tr th {\n",
              "        vertical-align: top;\n",
              "    }\n",
              "\n",
              "    .dataframe thead th {\n",
              "        text-align: right;\n",
              "    }\n",
              "</style>\n",
              "<table border=\"1\" class=\"dataframe\">\n",
              "  <thead>\n",
              "    <tr style=\"text-align: right;\">\n",
              "      <th></th>\n",
              "      <th>Occupation</th>\n",
              "    </tr>\n",
              "  </thead>\n",
              "  <tbody>\n",
              "    <tr>\n",
              "      <th>0</th>\n",
              "      <td>Engineer, water</td>\n",
              "    </tr>\n",
              "    <tr>\n",
              "      <th>1</th>\n",
              "      <td>Engineer, technical sales</td>\n",
              "    </tr>\n",
              "    <tr>\n",
              "      <th>2</th>\n",
              "      <td>Engineer, structural</td>\n",
              "    </tr>\n",
              "    <tr>\n",
              "      <th>3</th>\n",
              "      <td>Engineer, site</td>\n",
              "    </tr>\n",
              "    <tr>\n",
              "      <th>4</th>\n",
              "      <td>Engineer, production</td>\n",
              "    </tr>\n",
              "    <tr>\n",
              "      <th>...</th>\n",
              "      <td>...</td>\n",
              "    </tr>\n",
              "    <tr>\n",
              "      <th>24</th>\n",
              "      <td>Engineer, automotive</td>\n",
              "    </tr>\n",
              "    <tr>\n",
              "      <th>25</th>\n",
              "      <td>Engineer, agricultural</td>\n",
              "    </tr>\n",
              "    <tr>\n",
              "      <th>26</th>\n",
              "      <td>Engineer, aeronautical</td>\n",
              "    </tr>\n",
              "    <tr>\n",
              "      <th>27</th>\n",
              "      <td>Electrical engineer</td>\n",
              "    </tr>\n",
              "    <tr>\n",
              "      <th>28</th>\n",
              "      <td>Chemical engineer</td>\n",
              "    </tr>\n",
              "  </tbody>\n",
              "</table>\n",
              "<p>29 rows × 1 columns</p>\n",
              "</div>"
            ],
            "text/plain": [
              "                   Occupation\n",
              "0             Engineer, water\n",
              "1   Engineer, technical sales\n",
              "2        Engineer, structural\n",
              "3              Engineer, site\n",
              "4        Engineer, production\n",
              "..                        ...\n",
              "24       Engineer, automotive\n",
              "25     Engineer, agricultural\n",
              "26     Engineer, aeronautical\n",
              "27        Electrical engineer\n",
              "28          Chemical engineer\n",
              "\n",
              "[29 rows x 1 columns]"
            ]
          },
          "execution_count": 4,
          "metadata": {},
          "output_type": "execute_result"
        }
      ]
    },
    {
      "cell_type": "markdown",
      "metadata": {
        "id": "yG250lZuKhdI"
      },
      "source": [
        "Ahora, uno de sus colegas de marketing le dice que las personas que tienen 30 años o más tendrán una mayor probabilidad de comprar su producto (presumiblemente porque en ese momento tienen más ingresos y ahorros disponibles). No quiere dar por sentada la palabra de su colega, por lo que decide no ignorar por completo a las personas menores de 30 años y, en su lugar, agrega esa información al informe sobre la edad de la persona, para que el agente que realice la llamada posterior pueda decidir cómo quiere. para usar esa información. Sin embargo, debido a problemas de privacidad, tampoco puede compartir la edad exacta de la persona."
      ]
    },
    {
      "cell_type": "markdown",
      "metadata": {
        "id": "UAkUteIhKhdI"
      },
      "source": [
        "### Ejercicio 3: (5 min)\n",
        "Escriba una consulta que devuelva el ID del cliente, su nombre y una columna `Over30` que contenga\" Sí \"si el cliente tiene más de 30 años y\" No \"si no.\n",
        "\n",
        "**Sugerencia:** Deberá utilizar la cláusula `CASE-END`. La cláusula `CASE-END` se puede utilizar para evaluar declaraciones condicionales y devuelve un valor una vez que se cumple una condición (similar a una cláusula if-then-else en Python). Si no se cumple ninguna condición, devuelve el valor de la cláusula ELSE (o NULL si no hay una declaración ELSE). Por ejemplo:\n",
        "\n",
        "```SQL\n",
        "CASE\n",
        "    WHEN Name = \"Matt\" THEN 'Yes'\n",
        "    WHEN Name = \"Matteo\" THEN 'Maybe'\n",
        "    ELSE 'No'\n",
        "END\n",
        "```"
      ]
    },
    {
      "cell_type": "markdown",
      "metadata": {
        "id": "Q1yG-DDeKhdJ"
      },
      "source": [
        "**Respuesta.** "
      ]
    },
    {
      "cell_type": "markdown",
      "metadata": {
        "id": "cOwbOW7nKhdJ"
      },
      "source": [
        "```SQL\n",
        "SELECT CustomerID, Name,\n",
        "    CASE\n",
        "        WHEN Age >= 30 THEN 'Yes'\n",
        "        WHEN Age <  30 THEN 'No'\n",
        "        ELSE 'Missing Data'\n",
        "    END AS Over30\n",
        "FROM Customer\n",
        "ORDER BY Name DESC\n",
        "```"
      ]
    },
    {
      "cell_type": "code",
      "metadata": {
        "colab": {
          "base_uri": "https://localhost:8080/",
          "height": 423
        },
        "id": "Ug5ZR-F-KhdK",
        "outputId": "28ce4da5-2997-424c-aead-757e187e81b6"
      },
      "source": [
        "query4 = \"\"\"SELECT CustomerID, Name,\n",
        "    CASE\n",
        "        WHEN Age >= 30 THEN 'Yes'\n",
        "        WHEN Age <  30 THEN 'No'\n",
        "        ELSE 'Missing Data'\n",
        "    END AS Over30\n",
        "FROM Customer\n",
        "ORDER BY Name DESC\"\"\"\n",
        "runQuery(query4)"
      ],
      "execution_count": null,
      "outputs": [
        {
          "output_type": "execute_result",
          "data": {
            "text/html": [
              "<div>\n",
              "<style scoped>\n",
              "    .dataframe tbody tr th:only-of-type {\n",
              "        vertical-align: middle;\n",
              "    }\n",
              "\n",
              "    .dataframe tbody tr th {\n",
              "        vertical-align: top;\n",
              "    }\n",
              "\n",
              "    .dataframe thead th {\n",
              "        text-align: right;\n",
              "    }\n",
              "</style>\n",
              "<table border=\"1\" class=\"dataframe\">\n",
              "  <thead>\n",
              "    <tr style=\"text-align: right;\">\n",
              "      <th></th>\n",
              "      <th>CustomerID</th>\n",
              "      <th>Name</th>\n",
              "      <th>Over30</th>\n",
              "    </tr>\n",
              "  </thead>\n",
              "  <tbody>\n",
              "    <tr>\n",
              "      <th>0</th>\n",
              "      <td>392</td>\n",
              "      <td>Zachary Wilson</td>\n",
              "      <td>Yes</td>\n",
              "    </tr>\n",
              "    <tr>\n",
              "      <th>1</th>\n",
              "      <td>986</td>\n",
              "      <td>Zachary Stevenson</td>\n",
              "      <td>No</td>\n",
              "    </tr>\n",
              "    <tr>\n",
              "      <th>2</th>\n",
              "      <td>421</td>\n",
              "      <td>Zachary Ruiz</td>\n",
              "      <td>Yes</td>\n",
              "    </tr>\n",
              "    <tr>\n",
              "      <th>3</th>\n",
              "      <td>18</td>\n",
              "      <td>Zachary Howe</td>\n",
              "      <td>No</td>\n",
              "    </tr>\n",
              "    <tr>\n",
              "      <th>4</th>\n",
              "      <td>883</td>\n",
              "      <td>Zachary Anderson</td>\n",
              "      <td>No</td>\n",
              "    </tr>\n",
              "    <tr>\n",
              "      <th>...</th>\n",
              "      <td>...</td>\n",
              "      <td>...</td>\n",
              "      <td>...</td>\n",
              "    </tr>\n",
              "    <tr>\n",
              "      <th>995</th>\n",
              "      <td>65</td>\n",
              "      <td>Adam Jimenez</td>\n",
              "      <td>No</td>\n",
              "    </tr>\n",
              "    <tr>\n",
              "      <th>996</th>\n",
              "      <td>622</td>\n",
              "      <td>Aaron Rose</td>\n",
              "      <td>No</td>\n",
              "    </tr>\n",
              "    <tr>\n",
              "      <th>997</th>\n",
              "      <td>145</td>\n",
              "      <td>Aaron Mcintyre</td>\n",
              "      <td>No</td>\n",
              "    </tr>\n",
              "    <tr>\n",
              "      <th>998</th>\n",
              "      <td>461</td>\n",
              "      <td>Aaron Hendrix</td>\n",
              "      <td>No</td>\n",
              "    </tr>\n",
              "    <tr>\n",
              "      <th>999</th>\n",
              "      <td>900</td>\n",
              "      <td>Aaron Gutierrez</td>\n",
              "      <td>Yes</td>\n",
              "    </tr>\n",
              "  </tbody>\n",
              "</table>\n",
              "<p>1000 rows × 3 columns</p>\n",
              "</div>"
            ],
            "text/plain": [
              "     CustomerID               Name Over30\n",
              "0           392     Zachary Wilson    Yes\n",
              "1           986  Zachary Stevenson     No\n",
              "2           421       Zachary Ruiz    Yes\n",
              "3            18       Zachary Howe     No\n",
              "4           883   Zachary Anderson     No\n",
              "..          ...                ...    ...\n",
              "995          65       Adam Jimenez     No\n",
              "996         622         Aaron Rose     No\n",
              "997         145     Aaron Mcintyre     No\n",
              "998         461      Aaron Hendrix     No\n",
              "999         900    Aaron Gutierrez    Yes\n",
              "\n",
              "[1000 rows x 3 columns]"
            ]
          },
          "metadata": {},
          "execution_count": 11
        }
      ]
    },
    {
      "cell_type": "markdown",
      "metadata": {
        "id": "4AY0EfWAKhdK"
      },
      "source": [
        "Modifiquemos ahora el ejercicio 3 para que la consulta solo devuelva clientes que trabajan en una profesión de ingeniería:"
      ]
    },
    {
      "cell_type": "markdown",
      "metadata": {
        "id": "e2T-IzN_KhdK"
      },
      "source": [
        "```SQL\n",
        "SELECT CustomerID, Name,\n",
        "    CASE\n",
        "        WHEN Age >= 30 THEN 'Yes'\n",
        "        WHEN Age <  30 THEN 'No'\n",
        "        ELSE 'Missing Data'\n",
        "    END AS Over30\n",
        "FROM Customer\n",
        "WHERE Occupation LIKE '%Engineer%'\n",
        "ORDER BY Name DESC\n",
        "```"
      ]
    },
    {
      "cell_type": "code",
      "metadata": {
        "colab": {
          "base_uri": "https://localhost:8080/",
          "height": 423
        },
        "id": "S9JHel-iKhdL",
        "outputId": "512642f2-fd18-4907-a8d0-a63e0bdddb82"
      },
      "source": [
        "query5 = \"\"\"SELECT CustomerID, Name, Occupation,\n",
        "    CASE\n",
        "        WHEN Age >= 30 THEN 'Yes'\n",
        "        WHEN Age <  30 THEN 'No'\n",
        "        ELSE 'Missing Data'\n",
        "    END AS Over30\n",
        "FROM Customer\n",
        "WHERE Occupation LIKE '%Engineer%'\n",
        "ORDER BY Name DESC\"\"\"\n",
        "runQuery(query5)"
      ],
      "execution_count": null,
      "outputs": [
        {
          "output_type": "execute_result",
          "data": {
            "text/html": [
              "<div>\n",
              "<style scoped>\n",
              "    .dataframe tbody tr th:only-of-type {\n",
              "        vertical-align: middle;\n",
              "    }\n",
              "\n",
              "    .dataframe tbody tr th {\n",
              "        vertical-align: top;\n",
              "    }\n",
              "\n",
              "    .dataframe thead th {\n",
              "        text-align: right;\n",
              "    }\n",
              "</style>\n",
              "<table border=\"1\" class=\"dataframe\">\n",
              "  <thead>\n",
              "    <tr style=\"text-align: right;\">\n",
              "      <th></th>\n",
              "      <th>CustomerID</th>\n",
              "      <th>Name</th>\n",
              "      <th>Occupation</th>\n",
              "      <th>Over30</th>\n",
              "    </tr>\n",
              "  </thead>\n",
              "  <tbody>\n",
              "    <tr>\n",
              "      <th>0</th>\n",
              "      <td>421</td>\n",
              "      <td>Zachary Ruiz</td>\n",
              "      <td>Chemical engineer</td>\n",
              "      <td>Yes</td>\n",
              "    </tr>\n",
              "    <tr>\n",
              "      <th>1</th>\n",
              "      <td>952</td>\n",
              "      <td>Yolanda White</td>\n",
              "      <td>Chemical engineer</td>\n",
              "      <td>No</td>\n",
              "    </tr>\n",
              "    <tr>\n",
              "      <th>2</th>\n",
              "      <td>699</td>\n",
              "      <td>Willie Greene</td>\n",
              "      <td>Engineer, electronics</td>\n",
              "      <td>Yes</td>\n",
              "    </tr>\n",
              "    <tr>\n",
              "      <th>3</th>\n",
              "      <td>973</td>\n",
              "      <td>William Jackson</td>\n",
              "      <td>Engineer, communications</td>\n",
              "      <td>Yes</td>\n",
              "    </tr>\n",
              "    <tr>\n",
              "      <th>4</th>\n",
              "      <td>966</td>\n",
              "      <td>William Garcia</td>\n",
              "      <td>Engineer, broadcasting (operations)</td>\n",
              "      <td>No</td>\n",
              "    </tr>\n",
              "    <tr>\n",
              "      <th>...</th>\n",
              "      <td>...</td>\n",
              "      <td>...</td>\n",
              "      <td>...</td>\n",
              "      <td>...</td>\n",
              "    </tr>\n",
              "    <tr>\n",
              "      <th>356</th>\n",
              "      <td>918</td>\n",
              "      <td>Alison Vaughan</td>\n",
              "      <td>Engineer, water</td>\n",
              "      <td>Yes</td>\n",
              "    </tr>\n",
              "    <tr>\n",
              "      <th>357</th>\n",
              "      <td>568</td>\n",
              "      <td>Alice Lee</td>\n",
              "      <td>Engineer, civil (consulting)</td>\n",
              "      <td>No</td>\n",
              "    </tr>\n",
              "    <tr>\n",
              "      <th>358</th>\n",
              "      <td>432</td>\n",
              "      <td>Alexis Riddle</td>\n",
              "      <td>Engineer, mining</td>\n",
              "      <td>No</td>\n",
              "    </tr>\n",
              "    <tr>\n",
              "      <th>359</th>\n",
              "      <td>985</td>\n",
              "      <td>Alan Mitchell</td>\n",
              "      <td>Engineer, electrical</td>\n",
              "      <td>Yes</td>\n",
              "    </tr>\n",
              "    <tr>\n",
              "      <th>360</th>\n",
              "      <td>622</td>\n",
              "      <td>Aaron Rose</td>\n",
              "      <td>Engineer, production</td>\n",
              "      <td>No</td>\n",
              "    </tr>\n",
              "  </tbody>\n",
              "</table>\n",
              "<p>361 rows × 4 columns</p>\n",
              "</div>"
            ],
            "text/plain": [
              "     CustomerID             Name                           Occupation Over30\n",
              "0           421     Zachary Ruiz                    Chemical engineer    Yes\n",
              "1           952    Yolanda White                    Chemical engineer     No\n",
              "2           699    Willie Greene                Engineer, electronics    Yes\n",
              "3           973  William Jackson             Engineer, communications    Yes\n",
              "4           966   William Garcia  Engineer, broadcasting (operations)     No\n",
              "..          ...              ...                                  ...    ...\n",
              "356         918   Alison Vaughan                      Engineer, water    Yes\n",
              "357         568        Alice Lee         Engineer, civil (consulting)     No\n",
              "358         432    Alexis Riddle                     Engineer, mining     No\n",
              "359         985    Alan Mitchell                 Engineer, electrical    Yes\n",
              "360         622       Aaron Rose                 Engineer, production     No\n",
              "\n",
              "[361 rows x 4 columns]"
            ]
          },
          "metadata": {},
          "execution_count": 13
        }
      ]
    },
    {
      "cell_type": "markdown",
      "metadata": {
        "id": "SVm4uU7LKhdL"
      },
      "source": [
        "## Investigar las tasas de conversión de los clientes (20 min)"
      ]
    },
    {
      "cell_type": "markdown",
      "metadata": {
        "id": "uLlFUCA5KhdM"
      },
      "source": [
        "Para validar si nuestras hipótesis sobre los ingenieros y la edad son ciertas (por ejemplo, los ingenieros exhiben tasas de conversión de ventas de productos más altas, y quizás los ingenieros mayores de 30 tienden a exhibir una tasa de conversión aún más alta), necesitaremos usar dos tablas: `Call` y `Customer`. Esto se debe a que la columna `ProductSold` se encuentra solo en la tabla` Call`, sin embargo, la información sobre las profesiones y la edad del cliente solo se encuentra en la tabla `Customer`.\n",
        "\n",
        "Los comandos `SELECT` no están restringidos a una sola tabla. De hecho, en teoría, no hay límite en la cantidad de tablas de las que puede extraer datos en una sola consulta SQL. Introduzcamos algunos conceptos nuevos que son relevantes una vez que vayamos más allá de una sola tabla.\n",
        "\n",
        "\n",
        "**Primary and foreign keys** son conceptos muy importantes que deben ser entendidos por cualquier profesional de bases de datos. Claves primarias:\n",
        "\n",
        "1. Identificadores unicos en una tabla par aun registro. Usualemente tienen la palabra \"ID\"\n",
        "    * Por ejemplo, `CustomerID` es la primary key de la tabla `Customer`, `AgentID` es la llave primaria de la tabla `Agent`, y `CallID` es la llave primaria de la tabla `Call`     \n",
        "2. No acepta valores nulos. Y no deberian ser nulos porque son los identificadores\n",
        "3. Son limitados a uno por tabla\n",
        "\n",
        "Por el otro lado, foreign keys:\n",
        "\n",
        "1. Son un campo de la tabla que es la clave principal de otra tabla.\n",
        "2. Puede aceptar valores nulos\n",
        "3. No son limitados de ninguna manera por tabla\n",
        "    * Por ejemplo, la tabla `Call` tiene 2 foreign keys: `AgentID` y `CustomerID` que vienen de las tablas `Agent` y `Customer`, respectivamente"
      ]
    },
    {
      "cell_type": "markdown",
      "metadata": {
        "id": "e_DGXnMMKhdM"
      },
      "source": [
        "### Extracción de datos de llamadas para clientes que trabajan en profesiones de ingeniería (12 min)"
      ]
    },
    {
      "cell_type": "markdown",
      "metadata": {
        "id": "WxoBNOKRKhdM"
      },
      "source": [
        "Primero extraigamos los datos relevantes para que podamos realizar este análisis. Aquí, una cláusula **`JOIN`** será útil.\n",
        "\n",
        "Las cláusulas `JOIN` se utilizan para combinar datos de dos o más tablas en la misma consulta. Por ejemplo, en el escenario actual, necesitamos obtener el nombre del agente involucrado en una llamada. La tabla `Call` contiene solo el `AgentID` y no el nombre del agente. `JOIN` se vuelve útil aquí para que podamos hacer coincidir la tabla` Call` con la tabla `Agent`, que contiene la información del nombre.\n",
        "\n",
        "Aquí hay un diagrama que muestra cómo funciona `JOIN` (específicamente, **`INNER JOIN`**, que es la versión predeterminada y la única de la que tendrá que preocuparse en este caso). Observe que solo las filas con `id` de 1 y 4 se extraen porque esos son los únicos dos` id` que aparecen en ambas tablas:\n",
        "\n",
        "![Join](./images/join.png)\n",
        "\n",
        "Una clausula `JOIN` consiste en dos partes:\n",
        "\n",
        "1. La instrucción base `JOIN`, que tiene el formato`[Tabla 1] JOIN [Tabla 2]`. Esto realiza un producto cartesiano en las 2 tablas que se unen. Por ejemplo, si tenemos la Tabla A con 5 filas y la Tabla 5 con 3 filas, su producto cartesiano devolverá 15 filas (5 x 3)\n",
        "2. Un criterio `JOIN`, que filtra los resultados del producto cartesiano, comenzando con la palabra clave `ON`\n",
        "\n",
        "A continuación, se muestra un ejemplo de un criterio `JOIN` en acción, que nos indica que solo demos combinaciones de filas en las que el ID del agente coincida en ambas tablas:\n",
        "\n",
        "```SQL\n",
        "SELECT CallID, A.AgentID, name\n",
        "FROM Call C\n",
        "JOIN Agent A ON C.AgentID = A.AgentID\n",
        "ORDER BY Name DESC\n",
        "```"
      ]
    },
    {
      "cell_type": "code",
      "metadata": {
        "colab": {
          "base_uri": "https://localhost:8080/",
          "height": 423
        },
        "id": "27im_ZHPKhdN",
        "outputId": "afcc1098-1d61-4368-ebc9-49eb253d426c"
      },
      "source": [
        "query6 = \"\"\"SELECT CallID, A.AgentID, name\n",
        "FROM Call C\n",
        "JOIN Agent A ON C.AgentID = A.AgentID\n",
        "ORDER BY Name DESC\"\"\"\n",
        "runQuery(query6)"
      ],
      "execution_count": null,
      "outputs": [
        {
          "output_type": "execute_result",
          "data": {
            "text/html": [
              "<div>\n",
              "<style scoped>\n",
              "    .dataframe tbody tr th:only-of-type {\n",
              "        vertical-align: middle;\n",
              "    }\n",
              "\n",
              "    .dataframe tbody tr th {\n",
              "        vertical-align: top;\n",
              "    }\n",
              "\n",
              "    .dataframe thead th {\n",
              "        text-align: right;\n",
              "    }\n",
              "</style>\n",
              "<table border=\"1\" class=\"dataframe\">\n",
              "  <thead>\n",
              "    <tr style=\"text-align: right;\">\n",
              "      <th></th>\n",
              "      <th>CallID</th>\n",
              "      <th>AgentID</th>\n",
              "      <th>Name</th>\n",
              "    </tr>\n",
              "  </thead>\n",
              "  <tbody>\n",
              "    <tr>\n",
              "      <th>0</th>\n",
              "      <td>12</td>\n",
              "      <td>3</td>\n",
              "      <td>Todd Morrow</td>\n",
              "    </tr>\n",
              "    <tr>\n",
              "      <th>1</th>\n",
              "      <td>28</td>\n",
              "      <td>3</td>\n",
              "      <td>Todd Morrow</td>\n",
              "    </tr>\n",
              "    <tr>\n",
              "      <th>2</th>\n",
              "      <td>32</td>\n",
              "      <td>3</td>\n",
              "      <td>Todd Morrow</td>\n",
              "    </tr>\n",
              "    <tr>\n",
              "      <th>3</th>\n",
              "      <td>50</td>\n",
              "      <td>3</td>\n",
              "      <td>Todd Morrow</td>\n",
              "    </tr>\n",
              "    <tr>\n",
              "      <th>4</th>\n",
              "      <td>60</td>\n",
              "      <td>3</td>\n",
              "      <td>Todd Morrow</td>\n",
              "    </tr>\n",
              "    <tr>\n",
              "      <th>...</th>\n",
              "      <td>...</td>\n",
              "      <td>...</td>\n",
              "      <td>...</td>\n",
              "    </tr>\n",
              "    <tr>\n",
              "      <th>9934</th>\n",
              "      <td>9985</td>\n",
              "      <td>10</td>\n",
              "      <td>Agent X</td>\n",
              "    </tr>\n",
              "    <tr>\n",
              "      <th>9935</th>\n",
              "      <td>9986</td>\n",
              "      <td>10</td>\n",
              "      <td>Agent X</td>\n",
              "    </tr>\n",
              "    <tr>\n",
              "      <th>9936</th>\n",
              "      <td>9991</td>\n",
              "      <td>10</td>\n",
              "      <td>Agent X</td>\n",
              "    </tr>\n",
              "    <tr>\n",
              "      <th>9937</th>\n",
              "      <td>9992</td>\n",
              "      <td>10</td>\n",
              "      <td>Agent X</td>\n",
              "    </tr>\n",
              "    <tr>\n",
              "      <th>9938</th>\n",
              "      <td>9994</td>\n",
              "      <td>10</td>\n",
              "      <td>Agent X</td>\n",
              "    </tr>\n",
              "  </tbody>\n",
              "</table>\n",
              "<p>9939 rows × 3 columns</p>\n",
              "</div>"
            ],
            "text/plain": [
              "      CallID  AgentID         Name\n",
              "0         12        3  Todd Morrow\n",
              "1         28        3  Todd Morrow\n",
              "2         32        3  Todd Morrow\n",
              "3         50        3  Todd Morrow\n",
              "4         60        3  Todd Morrow\n",
              "...      ...      ...          ...\n",
              "9934    9985       10      Agent X\n",
              "9935    9986       10      Agent X\n",
              "9936    9991       10      Agent X\n",
              "9937    9992       10      Agent X\n",
              "9938    9994       10      Agent X\n",
              "\n",
              "[9939 rows x 3 columns]"
            ]
          },
          "metadata": {},
          "execution_count": 14
        }
      ]
    },
    {
      "cell_type": "markdown",
      "metadata": {
        "id": "-2NMkOo_KhdN"
      },
      "source": [
        "Note que:\n",
        "\n",
        "1. `C` y` A` son alias de las tablas `Call` y` Agent` para evitar tener que escribir el nombre de la tabla cada vez. A diferencia del alias de columna anterior, no necesitamos la palabra clave `AS` aquí\n",
        "2. Escribimos `A.AgentID` en lugar de` AgentID` en la instrucción SELECT; esto se debe a que la columna `AgentID` existe en ambas tablas, por lo que tenemos que decirle a la base de datos de cuál obtener el resultado\n"
      ]
    },
    {
      "cell_type": "markdown",
      "metadata": {
        "id": "8jQYuxKYKhdO"
      },
      "source": [
        "### Ejercicio 4: (7 min)\n",
        "\n",
        "Escriba una consulta que devuelva todas las llamadas realizadas a clientes de la profesión de ingeniería y muestre si son mayores o menores de 30, así como si terminaron comprando el producto de esa llamada."
      ]
    },
    {
      "cell_type": "markdown",
      "metadata": {
        "id": "LMVLfXfHKhdO"
      },
      "source": [
        "**Respuesta.** "
      ]
    },
    {
      "cell_type": "markdown",
      "metadata": {
        "id": "TTyegqcTKhdO"
      },
      "source": [
        "```SQL\n",
        "SELECT CallID, Cu.CustomerID, Name, ProductSold,\n",
        "    CASE\n",
        "        WHEN Age >= 30 THEN 'Yes'\n",
        "        WHEN Age <  30 THEN 'No'\n",
        "        ELSE 'Missing Data'\n",
        "    END AS Over30\n",
        "FROM Customer Cu\n",
        "JOIN Call Ca ON Ca.CustomerID = Cu.CustomerID\n",
        "WHERE Occupation LIKE '%Engineer%'\n",
        "ORDER BY Name DESC\n",
        "```"
      ]
    },
    {
      "cell_type": "code",
      "metadata": {
        "colab": {
          "base_uri": "https://localhost:8080/",
          "height": 423
        },
        "id": "y-8JwE9cKhdO",
        "outputId": "51a992bc-20e8-4160-c11d-46cc1258153d"
      },
      "source": [
        "query7 = \"\"\"SELECT CallID, Cu.CustomerID, Name, ProductSold,\n",
        "    CASE\n",
        "        WHEN Age >= 30 THEN 'Yes'\n",
        "        WHEN Age <  30 THEN 'No'\n",
        "        ELSE 'Missing Data'\n",
        "    END AS Over30\n",
        "FROM Customer Cu\n",
        "JOIN Call Ca ON Ca.CustomerID = Cu.CustomerID\n",
        "WHERE Occupation LIKE '%Engineer%'\n",
        "ORDER BY Name DESC\"\"\"\n",
        "runQuery(query7)"
      ],
      "execution_count": null,
      "outputs": [
        {
          "output_type": "execute_result",
          "data": {
            "text/html": [
              "<div>\n",
              "<style scoped>\n",
              "    .dataframe tbody tr th:only-of-type {\n",
              "        vertical-align: middle;\n",
              "    }\n",
              "\n",
              "    .dataframe tbody tr th {\n",
              "        vertical-align: top;\n",
              "    }\n",
              "\n",
              "    .dataframe thead th {\n",
              "        text-align: right;\n",
              "    }\n",
              "</style>\n",
              "<table border=\"1\" class=\"dataframe\">\n",
              "  <thead>\n",
              "    <tr style=\"text-align: right;\">\n",
              "      <th></th>\n",
              "      <th>CallID</th>\n",
              "      <th>CustomerID</th>\n",
              "      <th>Name</th>\n",
              "      <th>ProductSold</th>\n",
              "      <th>Over30</th>\n",
              "    </tr>\n",
              "  </thead>\n",
              "  <tbody>\n",
              "    <tr>\n",
              "      <th>0</th>\n",
              "      <td>2049</td>\n",
              "      <td>421</td>\n",
              "      <td>Zachary Ruiz</td>\n",
              "      <td>0</td>\n",
              "      <td>Yes</td>\n",
              "    </tr>\n",
              "    <tr>\n",
              "      <th>1</th>\n",
              "      <td>2960</td>\n",
              "      <td>421</td>\n",
              "      <td>Zachary Ruiz</td>\n",
              "      <td>0</td>\n",
              "      <td>Yes</td>\n",
              "    </tr>\n",
              "    <tr>\n",
              "      <th>2</th>\n",
              "      <td>3365</td>\n",
              "      <td>421</td>\n",
              "      <td>Zachary Ruiz</td>\n",
              "      <td>0</td>\n",
              "      <td>Yes</td>\n",
              "    </tr>\n",
              "    <tr>\n",
              "      <th>3</th>\n",
              "      <td>3386</td>\n",
              "      <td>421</td>\n",
              "      <td>Zachary Ruiz</td>\n",
              "      <td>1</td>\n",
              "      <td>Yes</td>\n",
              "    </tr>\n",
              "    <tr>\n",
              "      <th>4</th>\n",
              "      <td>4332</td>\n",
              "      <td>421</td>\n",
              "      <td>Zachary Ruiz</td>\n",
              "      <td>0</td>\n",
              "      <td>Yes</td>\n",
              "    </tr>\n",
              "    <tr>\n",
              "      <th>...</th>\n",
              "      <td>...</td>\n",
              "      <td>...</td>\n",
              "      <td>...</td>\n",
              "      <td>...</td>\n",
              "      <td>...</td>\n",
              "    </tr>\n",
              "    <tr>\n",
              "      <th>3614</th>\n",
              "      <td>6444</td>\n",
              "      <td>622</td>\n",
              "      <td>Aaron Rose</td>\n",
              "      <td>1</td>\n",
              "      <td>No</td>\n",
              "    </tr>\n",
              "    <tr>\n",
              "      <th>3615</th>\n",
              "      <td>7994</td>\n",
              "      <td>622</td>\n",
              "      <td>Aaron Rose</td>\n",
              "      <td>0</td>\n",
              "      <td>No</td>\n",
              "    </tr>\n",
              "    <tr>\n",
              "      <th>3616</th>\n",
              "      <td>8811</td>\n",
              "      <td>622</td>\n",
              "      <td>Aaron Rose</td>\n",
              "      <td>0</td>\n",
              "      <td>No</td>\n",
              "    </tr>\n",
              "    <tr>\n",
              "      <th>3617</th>\n",
              "      <td>9524</td>\n",
              "      <td>622</td>\n",
              "      <td>Aaron Rose</td>\n",
              "      <td>1</td>\n",
              "      <td>No</td>\n",
              "    </tr>\n",
              "    <tr>\n",
              "      <th>3618</th>\n",
              "      <td>9965</td>\n",
              "      <td>622</td>\n",
              "      <td>Aaron Rose</td>\n",
              "      <td>0</td>\n",
              "      <td>No</td>\n",
              "    </tr>\n",
              "  </tbody>\n",
              "</table>\n",
              "<p>3619 rows × 5 columns</p>\n",
              "</div>"
            ],
            "text/plain": [
              "      CallID  CustomerID          Name  ProductSold Over30\n",
              "0       2049         421  Zachary Ruiz            0    Yes\n",
              "1       2960         421  Zachary Ruiz            0    Yes\n",
              "2       3365         421  Zachary Ruiz            0    Yes\n",
              "3       3386         421  Zachary Ruiz            1    Yes\n",
              "4       4332         421  Zachary Ruiz            0    Yes\n",
              "...      ...         ...           ...          ...    ...\n",
              "3614    6444         622    Aaron Rose            1     No\n",
              "3615    7994         622    Aaron Rose            0     No\n",
              "3616    8811         622    Aaron Rose            0     No\n",
              "3617    9524         622    Aaron Rose            1     No\n",
              "3618    9965         622    Aaron Rose            0     No\n",
              "\n",
              "[3619 rows x 5 columns]"
            ]
          },
          "metadata": {},
          "execution_count": 15
        }
      ]
    },
    {
      "cell_type": "markdown",
      "metadata": {
        "id": "X9i8141RKhdP"
      },
      "source": [
        "## Analizar los datos de conversión de llamadas (15 min)\n",
        "\n",
        "Ahora, queremos determinar si los clientes de nuestra cohorte deseada exhiben una tasa de conversión de ventas más alta en comparación con la población general de clientes. Una forma razonable de hacer esto es contar el número total de llamadas a esta cohorte que resultaron en una venta y dividir eso por el número total de llamadas a esta cohorte (ya sea que resulten en una venta o no) para obtener un porcentaje, y luego compararlo con el porcentaje que calculamos de la tabla de `calls` en general.\n",
        "\n",
        "Sin embargo, para calcular estas cifras, necesitaremos aprender un poco sobre **funciones de agregación**. Una función de agregación le permite realizar un cálculo en un conjunto de valores para devolver un solo valor, esencialmente calculando algún tipo de estadística de resumen.\n",
        "\n",
        "Las consultas de agregación suelen tener este aspecto:\n",
        "\n",
        "![Aggregation Queries](./images/aggregation.png)\n",
        "\n",
        "Las siguientes son las funciones agregadas de SQL más utilizadas:\n",
        "\n",
        "1. `AVG()` – calculates the average of a set of values\n",
        "2. `COUNT()` – counts rows in a specified table or view\n",
        "3. `MIN()` – gets the minimum value in a set of values\n",
        "4. `MAX()` – gets the maximum value in a set of values\n",
        "5. `SUM()` – calculates the sum of values\n",
        "\n",
        "Como se menciono anteriormente, PostgreSQL tiene funciones mas avanzadas [aggregate functions](https://www.postgresql.org/docs/9.5/functions-aggregate.html). Especificamente tiene algunas funciones estadisticas sofisticadas. Por ejemplo,\n",
        "\n",
        "1. `regr_intercept(Y, X)` - Returns the intercept for the line of best fit\n",
        "2. `regr_slope(Y, X)` - Returns the slope of the line of best fit\n",
        "3. `corr(Y, X)` - Returns the correlation between two columns\n",
        "\n",
        "Por lo tanto, las regresiones en grandes conjuntos de datos y la conexión de red es lenta, puede realizar las regresiones en la propia consulta."
      ]
    },
    {
      "cell_type": "markdown",
      "metadata": {
        "id": "dkipnHwHKhdT"
      },
      "source": [
        "### Ejercicio 5: (5 min)\n",
        "\n",
        "Escriba dos consultas: una que calcule las ventas totales y las llamadas totales realizadas a los clientes de la profesión de ingeniería y otra que calcule las mismas métricas para toda la base de clientes. ¿Qué puede concluir con respecto a la tasa de conversión entre los clientes de ingeniería frente a la base de clientes en general?"
      ]
    },
    {
      "cell_type": "markdown",
      "metadata": {
        "id": "QBEPsYWOKhdT"
      },
      "source": [
        "**Respuesta.**"
      ]
    },
    {
      "cell_type": "markdown",
      "metadata": {
        "id": "zYpAbBC7KhdT"
      },
      "source": [
        "```SQL\n",
        "SELECT SUM(ProductSold) AS TotalSales, COUNT(*) AS NCalls\n",
        "FROM Customer Cu\n",
        "JOIN Call Ca ON Ca.CustomerID = Cu.CustomerID\n",
        "WHERE Occupation LIKE '%Engineer%'\n",
        "```"
      ]
    },
    {
      "cell_type": "code",
      "metadata": {
        "id": "cqBnvHh5KhdT",
        "outputId": "870ead02-04d1-4029-8428-c5aff8e39054"
      },
      "source": [
        "query8 = \"\"\"SELECT SUM(ProductSold) AS TotalSales, COUNT(*) AS NCalls\n",
        "FROM Customer Cu\n",
        "JOIN Call Ca ON Ca.CustomerID = Cu.CustomerID\n",
        "WHERE Occupation LIKE '%Engineer%'\"\"\"\n",
        "runQuery(query8)"
      ],
      "execution_count": null,
      "outputs": [
        {
          "data": {
            "text/html": [
              "<div>\n",
              "<style scoped>\n",
              "    .dataframe tbody tr th:only-of-type {\n",
              "        vertical-align: middle;\n",
              "    }\n",
              "\n",
              "    .dataframe tbody tr th {\n",
              "        vertical-align: top;\n",
              "    }\n",
              "\n",
              "    .dataframe thead th {\n",
              "        text-align: right;\n",
              "    }\n",
              "</style>\n",
              "<table border=\"1\" class=\"dataframe\">\n",
              "  <thead>\n",
              "    <tr style=\"text-align: right;\">\n",
              "      <th></th>\n",
              "      <th>TotalSales</th>\n",
              "      <th>NCalls</th>\n",
              "    </tr>\n",
              "  </thead>\n",
              "  <tbody>\n",
              "    <tr>\n",
              "      <th>0</th>\n",
              "      <td>760</td>\n",
              "      <td>3619</td>\n",
              "    </tr>\n",
              "  </tbody>\n",
              "</table>\n",
              "</div>"
            ],
            "text/plain": [
              "   TotalSales  NCalls\n",
              "0         760    3619"
            ]
          },
          "execution_count": 10,
          "metadata": {},
          "output_type": "execute_result"
        }
      ]
    },
    {
      "cell_type": "markdown",
      "metadata": {
        "id": "Ltb8GpoSKhdU"
      },
      "source": [
        "```SQL\n",
        "SELECT SUM(ProductSold) AS TotalSales, COUNT(*) AS NCalls\n",
        "FROM Customer Cu\n",
        "JOIN Call Ca ON Ca.CustomerID = Cu.CustomerID\n",
        "```"
      ]
    },
    {
      "cell_type": "code",
      "metadata": {
        "id": "N-vlnLfYKhdU",
        "outputId": "9b251d3f-cc60-47fa-bbad-369cb5876331"
      },
      "source": [
        "query9 = \"\"\"SELECT SUM(ProductSold) AS TotalSales, COUNT(*) AS NCalls\n",
        "FROM Customer Cu\n",
        "JOIN Call Ca ON Ca.CustomerID = Cu.CustomerID\"\"\"\n",
        "runQuery(query9)"
      ],
      "execution_count": null,
      "outputs": [
        {
          "data": {
            "text/html": [
              "<div>\n",
              "<style scoped>\n",
              "    .dataframe tbody tr th:only-of-type {\n",
              "        vertical-align: middle;\n",
              "    }\n",
              "\n",
              "    .dataframe tbody tr th {\n",
              "        vertical-align: top;\n",
              "    }\n",
              "\n",
              "    .dataframe thead th {\n",
              "        text-align: right;\n",
              "    }\n",
              "</style>\n",
              "<table border=\"1\" class=\"dataframe\">\n",
              "  <thead>\n",
              "    <tr style=\"text-align: right;\">\n",
              "      <th></th>\n",
              "      <th>TotalSales</th>\n",
              "      <th>NCalls</th>\n",
              "    </tr>\n",
              "  </thead>\n",
              "  <tbody>\n",
              "    <tr>\n",
              "      <th>0</th>\n",
              "      <td>2084</td>\n",
              "      <td>9925</td>\n",
              "    </tr>\n",
              "  </tbody>\n",
              "</table>\n",
              "</div>"
            ],
            "text/plain": [
              "   TotalSales  NCalls\n",
              "0        2084    9925"
            ]
          },
          "execution_count": 11,
          "metadata": {},
          "output_type": "execute_result"
        }
      ]
    },
    {
      "cell_type": "markdown",
      "metadata": {
        "id": "dXF6Dgr2KhdV"
      },
      "source": [
        "La tasa de conversión para ambos grupos es ~20.9%, lo que indica que los ingenieros no tienen más probabilidades de comprar nuestros productos que la población en general."
      ]
    },
    {
      "cell_type": "markdown",
      "metadata": {
        "id": "vKRqQLagKhdW"
      },
      "source": [
        "### Ejercicio 6: (3 min)\n",
        "\n",
        "Escriba una consulta que calcule las ventas totales y las llamadas totales realizadas a clientes mayores de 30 años. ¿Existe una diferencia notable entre la tasa de conversión aquí y la de la base de clientes en general?"
      ]
    },
    {
      "cell_type": "markdown",
      "metadata": {
        "id": "q2cEcOagKhdW"
      },
      "source": [
        "**Respuesta.**"
      ]
    },
    {
      "cell_type": "markdown",
      "metadata": {
        "id": "Bd6_zj-OKhdX"
      },
      "source": [
        "```SQL\n",
        "SELECT SUM(ProductSold) AS TotalSales, COUNT(*) AS NCalls\n",
        "FROM Customer Cu\n",
        "JOIN Call Ca ON Ca.CustomerID = Cu.CustomerID\n",
        "WHERE Age >= 30\n",
        "```"
      ]
    },
    {
      "cell_type": "code",
      "metadata": {
        "id": "mnAq4y1NKhdX",
        "outputId": "6951fae7-5351-4da4-a8a4-76cf475752d9"
      },
      "source": [
        "query10 = \"\"\"SELECT SUM(ProductSold) AS TotalSales, COUNT(*) AS NCalls\n",
        "FROM Customer Cu\n",
        "JOIN Call Ca ON Ca.CustomerID = Cu.CustomerID\n",
        "WHERE Age >= 30\"\"\"\n",
        "runQuery(query10)"
      ],
      "execution_count": null,
      "outputs": [
        {
          "data": {
            "text/html": [
              "<div>\n",
              "<style scoped>\n",
              "    .dataframe tbody tr th:only-of-type {\n",
              "        vertical-align: middle;\n",
              "    }\n",
              "\n",
              "    .dataframe tbody tr th {\n",
              "        vertical-align: top;\n",
              "    }\n",
              "\n",
              "    .dataframe thead th {\n",
              "        text-align: right;\n",
              "    }\n",
              "</style>\n",
              "<table border=\"1\" class=\"dataframe\">\n",
              "  <thead>\n",
              "    <tr style=\"text-align: right;\">\n",
              "      <th></th>\n",
              "      <th>TotalSales</th>\n",
              "      <th>NCalls</th>\n",
              "    </tr>\n",
              "  </thead>\n",
              "  <tbody>\n",
              "    <tr>\n",
              "      <th>0</th>\n",
              "      <td>659</td>\n",
              "      <td>3096</td>\n",
              "    </tr>\n",
              "  </tbody>\n",
              "</table>\n",
              "</div>"
            ],
            "text/plain": [
              "   TotalSales  NCalls\n",
              "0         659    3096"
            ]
          },
          "execution_count": 12,
          "metadata": {},
          "output_type": "execute_result"
        }
      ]
    },
    {
      "cell_type": "markdown",
      "metadata": {
        "id": "YwAhZZ-wKhdY"
      },
      "source": [
        "La tasa de conversión es ~21.1% frente a la general ~20.9%. Puede haber alguna diferencia, pero es bastante pequeña, por lo que necesitaríamos ejecutar pruebas de significación estadística para validar esto. (Aprenderá sobre estos en casos futuros)."
      ]
    },
    {
      "cell_type": "markdown",
      "metadata": {
        "id": "MuL0smMhKhdY"
      },
      "source": [
        "### Ejercicio 7: (3 min)\n",
        "\n",
        "¿Qué tal si observa la tasa de conversión de ventas para ingenieros mayores de 30 años?"
      ]
    },
    {
      "cell_type": "markdown",
      "metadata": {
        "id": "HzZU1MqoKhdZ"
      },
      "source": [
        "```SQL\n",
        "SELECT SUM(ProductSold) AS TotalSales, COUNT(*) AS NCalls\n",
        "FROM Customer Cu\n",
        "JOIN Call Ca ON Ca.CustomerID = Cu.CustomerID\n",
        "WHERE Occupation LIKE '%Engineer%' AND Age >= 30\n",
        "```"
      ]
    },
    {
      "cell_type": "markdown",
      "metadata": {
        "id": "RZZCBMGsKhdZ"
      },
      "source": [
        "**Respuesta.**"
      ]
    },
    {
      "cell_type": "code",
      "metadata": {
        "id": "HKxcv5XoKhdZ",
        "outputId": "10c60a88-7483-401c-d3b0-a1dd6ea0f6d7"
      },
      "source": [
        "query11 = \"\"\"SELECT SUM(ProductSold) AS TotalSales, COUNT(*) AS NCalls\n",
        "FROM Customer Cu\n",
        "JOIN Call Ca ON Ca.CustomerID = Cu.CustomerID\n",
        "WHERE Occupation LIKE '%Engineer%' AND Age >= 30\"\"\"\n",
        "runQuery(query11)"
      ],
      "execution_count": null,
      "outputs": [
        {
          "data": {
            "text/html": [
              "<div>\n",
              "<style scoped>\n",
              "    .dataframe tbody tr th:only-of-type {\n",
              "        vertical-align: middle;\n",
              "    }\n",
              "\n",
              "    .dataframe tbody tr th {\n",
              "        vertical-align: top;\n",
              "    }\n",
              "\n",
              "    .dataframe thead th {\n",
              "        text-align: right;\n",
              "    }\n",
              "</style>\n",
              "<table border=\"1\" class=\"dataframe\">\n",
              "  <thead>\n",
              "    <tr style=\"text-align: right;\">\n",
              "      <th></th>\n",
              "      <th>TotalSales</th>\n",
              "      <th>NCalls</th>\n",
              "    </tr>\n",
              "  </thead>\n",
              "  <tbody>\n",
              "    <tr>\n",
              "      <th>0</th>\n",
              "      <td>376</td>\n",
              "      <td>1816</td>\n",
              "    </tr>\n",
              "  </tbody>\n",
              "</table>\n",
              "</div>"
            ],
            "text/plain": [
              "   TotalSales  NCalls\n",
              "0         376    1816"
            ]
          },
          "execution_count": 13,
          "metadata": {},
          "output_type": "execute_result"
        }
      ]
    },
    {
      "cell_type": "markdown",
      "metadata": {
        "id": "1qyaLZ3aKhda"
      },
      "source": [
        "Aquí, en realidad observamos el patrón opuesto: la tasa de conversión es solo ~ 20.5%."
      ]
    },
    {
      "cell_type": "markdown",
      "metadata": {
        "id": "h1DwuJSeKhda"
      },
      "source": [
        "A partir de estos números, podemos concluir que el estado de un cliente como profesional de la ingeniería no tiene un efecto positivo en su tasa de conversión. Por otro lado, tener una edad de al menos 30 años PUEDE tener algún efecto; sin embargo, necesitaríamos hacer pruebas estadísticas más profundas para determinar esto."
      ]
    },
    {
      "cell_type": "markdown",
      "metadata": {
        "collapsed": true,
        "id": "Ljwkd7f9Khda"
      },
      "source": [
        "## Evaluando el performance de los agentes (20 min)"
      ]
    },
    {
      "cell_type": "markdown",
      "metadata": {
        "id": "eQ40WBJCKhda"
      },
      "source": [
        "Recuerde la segunda parte de nuestra pregunta comercial: debemos averiguar cuáles de nuestros agentes son los más y los menos productivos. Para hacer esto, tiene sentido determinar qué métricas podrían estar relacionadas con la productividad. Al observar las características presentes, las siguientes parecen ser razonables:\n",
        "\n",
        "1. La cantidad de llamadas que hizo un agente.\n",
        "2. La duración de las llamadas que hizo un agente\n",
        "3. El número total de productos que vendió un agente."
      ]
    },
    {
      "cell_type": "markdown",
      "metadata": {
        "id": "j6EEdHXqKhdb"
      },
      "source": [
        "### Pregunta: (5 min)\n",
        "\n",
        "Para cualquier agente, ¿extraer esta información sería una buena forma de analizar rápidamente su productividad? ¿Por qué o por qué no?"
      ]
    },
    {
      "cell_type": "markdown",
      "metadata": {
        "id": "4tAsXvxjKhdb"
      },
      "source": [
        "Si bien las métricas anteriores son útiles, algunas de ellas son demasiado numerosas para analizarlas fácilmente. Específicamente, la duración de las llamadas que hizo un agente es un conjunto de datos que es tan grande como la cantidad de llamadas que hizo el agente. Si el agente hizo muchas llamadas, no tendrá sentido lanzarnos a nosotros mismos todo el conjunto de llamadas. En cambio, deberíamos calcular algunas estadísticas resumidas de esta métrica; es decir, las longitudes mínima, máxima y media parecen razonables."
      ]
    },
    {
      "cell_type": "markdown",
      "metadata": {
        "id": "Ok87C2p3Khdb"
      },
      "source": [
        "### Ejercicio 8: (5 min)\n",
        "\n",
        "Escriba una consulta que devuelva, para cada agente, el nombre del agente, la cantidad de llamadas, las llamadas más largas y más cortas, la duración promedio de las llamadas y la cantidad total de productos vendidos. Nombra las columnas `AgentName`, `NCalls`, `Shortest`, `Longest`, `AvgDuration` y `TotalSales` y ordena la tabla por `AgentName` en orden alfabético. (Asegúrese de incluir la cláusula `WHERE PickedUp = 1` para calcular solo el promedio de todas las llamadas que fueron atendidas (de lo contrario, ¡todas las duraciones mínimas serán 0)!)"
      ]
    },
    {
      "cell_type": "markdown",
      "metadata": {
        "id": "sz0WUUKMKhdb"
      },
      "source": [
        "**Respuesta.**"
      ]
    },
    {
      "cell_type": "markdown",
      "metadata": {
        "id": "_LwCBt3jKhdc"
      },
      "source": [
        "```SQL\n",
        "SELECT Name AS AgentName, COUNT(*) AS NCalls, MIN(Duration) AS Shortest, MAX(Duration) AS Longest, AVG(Duration) AS AvgDuration, SUM(ProductSold) AS TotalSales\n",
        "FROM Calls C\n",
        "    JOIN Agent A ON C.AgentID = A.AgentID\n",
        "WHERE PickeDup = 1\n",
        "GROUP BY Name\n",
        "ORDER BY Name\n",
        "```"
      ]
    },
    {
      "cell_type": "code",
      "metadata": {
        "id": "TeEA22CzKhdc",
        "outputId": "a19d0c61-9208-4b8f-d697-dd69fd1c4e5d"
      },
      "source": [
        "query12 = \"\"\"SELECT Name AS AgentName, COUNT(*) AS NCalls, MIN(Duration) AS Shortest, MAX(Duration) AS Longest, AVG(Duration) AS AvgDuration, SUM(ProductSold) AS TotalSales\n",
        "FROM Call C\n",
        "    JOIN Agent A ON C.AgentID = A.AgentID\n",
        "WHERE PickeDup = 1\n",
        "GROUP BY Name\n",
        "ORDER BY Name\"\"\"\n",
        "runQuery(query12)"
      ],
      "execution_count": null,
      "outputs": [
        {
          "data": {
            "text/html": [
              "<div>\n",
              "<style scoped>\n",
              "    .dataframe tbody tr th:only-of-type {\n",
              "        vertical-align: middle;\n",
              "    }\n",
              "\n",
              "    .dataframe tbody tr th {\n",
              "        vertical-align: top;\n",
              "    }\n",
              "\n",
              "    .dataframe thead th {\n",
              "        text-align: right;\n",
              "    }\n",
              "</style>\n",
              "<table border=\"1\" class=\"dataframe\">\n",
              "  <thead>\n",
              "    <tr style=\"text-align: right;\">\n",
              "      <th></th>\n",
              "      <th>AgentName</th>\n",
              "      <th>NCalls</th>\n",
              "      <th>Shortest</th>\n",
              "      <th>Longest</th>\n",
              "      <th>AvgDuration</th>\n",
              "      <th>TotalSales</th>\n",
              "    </tr>\n",
              "  </thead>\n",
              "  <tbody>\n",
              "    <tr>\n",
              "      <th>0</th>\n",
              "      <td>Agent X</td>\n",
              "      <td>640</td>\n",
              "      <td>22</td>\n",
              "      <td>334</td>\n",
              "      <td>180.975000</td>\n",
              "      <td>194</td>\n",
              "    </tr>\n",
              "    <tr>\n",
              "      <th>1</th>\n",
              "      <td>Angel Briggs</td>\n",
              "      <td>591</td>\n",
              "      <td>12</td>\n",
              "      <td>362</td>\n",
              "      <td>181.081218</td>\n",
              "      <td>157</td>\n",
              "    </tr>\n",
              "    <tr>\n",
              "      <th>2</th>\n",
              "      <td>Christopher Moreno</td>\n",
              "      <td>649</td>\n",
              "      <td>47</td>\n",
              "      <td>363</td>\n",
              "      <td>177.979969</td>\n",
              "      <td>189</td>\n",
              "    </tr>\n",
              "    <tr>\n",
              "      <th>3</th>\n",
              "      <td>Dana Hardy</td>\n",
              "      <td>554</td>\n",
              "      <td>49</td>\n",
              "      <td>356</td>\n",
              "      <td>177.203971</td>\n",
              "      <td>182</td>\n",
              "    </tr>\n",
              "    <tr>\n",
              "      <th>4</th>\n",
              "      <td>Gloria Singh</td>\n",
              "      <td>662</td>\n",
              "      <td>36</td>\n",
              "      <td>349</td>\n",
              "      <td>182.175227</td>\n",
              "      <td>209</td>\n",
              "    </tr>\n",
              "    <tr>\n",
              "      <th>...</th>\n",
              "      <td>...</td>\n",
              "      <td>...</td>\n",
              "      <td>...</td>\n",
              "      <td>...</td>\n",
              "      <td>...</td>\n",
              "      <td>...</td>\n",
              "    </tr>\n",
              "    <tr>\n",
              "      <th>6</th>\n",
              "      <td>Lisa Cordova</td>\n",
              "      <td>639</td>\n",
              "      <td>46</td>\n",
              "      <td>344</td>\n",
              "      <td>179.214397</td>\n",
              "      <td>201</td>\n",
              "    </tr>\n",
              "    <tr>\n",
              "      <th>7</th>\n",
              "      <td>Michele Williams</td>\n",
              "      <td>685</td>\n",
              "      <td>22</td>\n",
              "      <td>306</td>\n",
              "      <td>177.880292</td>\n",
              "      <td>198</td>\n",
              "    </tr>\n",
              "    <tr>\n",
              "      <th>8</th>\n",
              "      <td>Paul Nunez</td>\n",
              "      <td>648</td>\n",
              "      <td>-5</td>\n",
              "      <td>323</td>\n",
              "      <td>181.070988</td>\n",
              "      <td>194</td>\n",
              "    </tr>\n",
              "    <tr>\n",
              "      <th>9</th>\n",
              "      <td>Randy Moore</td>\n",
              "      <td>600</td>\n",
              "      <td>16</td>\n",
              "      <td>326</td>\n",
              "      <td>178.595000</td>\n",
              "      <td>177</td>\n",
              "    </tr>\n",
              "    <tr>\n",
              "      <th>10</th>\n",
              "      <td>Todd Morrow</td>\n",
              "      <td>631</td>\n",
              "      <td>-3</td>\n",
              "      <td>339</td>\n",
              "      <td>180.711569</td>\n",
              "      <td>204</td>\n",
              "    </tr>\n",
              "  </tbody>\n",
              "</table>\n",
              "<p>11 rows × 6 columns</p>\n",
              "</div>"
            ],
            "text/plain": [
              "             AgentName  NCalls  Shortest  Longest  AvgDuration  TotalSales\n",
              "0              Agent X     640        22      334   180.975000         194\n",
              "1         Angel Briggs     591        12      362   181.081218         157\n",
              "2   Christopher Moreno     649        47      363   177.979969         189\n",
              "3           Dana Hardy     554        49      356   177.203971         182\n",
              "4         Gloria Singh     662        36      349   182.175227         209\n",
              "..                 ...     ...       ...      ...          ...         ...\n",
              "6         Lisa Cordova     639        46      344   179.214397         201\n",
              "7     Michele Williams     685        22      306   177.880292         198\n",
              "8           Paul Nunez     648        -5      323   181.070988         194\n",
              "9          Randy Moore     600        16      326   178.595000         177\n",
              "10         Todd Morrow     631        -3      339   180.711569         204\n",
              "\n",
              "[11 rows x 6 columns]"
            ]
          },
          "execution_count": 14,
          "metadata": {},
          "output_type": "execute_result"
        }
      ]
    },
    {
      "cell_type": "markdown",
      "metadata": {
        "id": "YVgi3bfYKhdc"
      },
      "source": [
        "### Pregunta: (5 min)\n",
        "\n",
        "A lo largo de este caso, hemos definido la tasa de conversión de ventas como la cantidad de productos vendidos dividida por la cantidad de llamadas realizadas. ¿Cuáles son las fortalezas y debilidades de esta opción de definición? ¿Hay alguna manera de ajustar la definición para corregir algunas de esas debilidades mientras conserva todas las fortalezas?"
      ]
    },
    {
      "cell_type": "markdown",
      "metadata": {
        "id": "Tjbn1KosKhdd"
      },
      "source": [
        "## Un mundo acerca de SQL statements (5 min)"
      ]
    },
    {
      "cell_type": "markdown",
      "metadata": {
        "id": "mOSl2kBvKhdd"
      },
      "source": [
        "En este caso hemos usado SQL's [**Data Manipulation Language (DML)**](https://en.wikipedia.org/wiki/Data_manipulation_language) statements; esto es, statements que son usados para leer o escribir (mannipular) data desde una database. Sin embargo, SQL tiene la habilidad de crear, modificar, y remover objetos de la database. Esto lo hace por medio del uso de [**Data Definition Language (DDL)**](https://en.wikipedia.org/wiki/Data_definition_language)que son comandos que definen diferentes estructuras en la database. Aprenderas mas acerca de estos statements en futuros casos. \n",
        "\n",
        "Hay otros dos tipos de sentencias SQL que son importantes, pero es menos probable que las utilice alguien que se concentre simplemente en analizar datos. No profundizaremos en estos, ya que es muy poco probable que tenga que lidiar con ellos en el corto plazo, pero puede leer sobre ellos en otro lugar si está interesado. Son:\n",
        "\n",
        "1. [**Data Control Language (DCL)**](https://en.wikipedia.org/wiki/Data_control_language): Estos determinan quién tiene permiso para hacer qué en la base de datos. Cada vez que inicia sesión en una base de datos, lo hace utilizando (su) cuenta de usuario de la base de datos. De forma predeterminada, un usuario después de ser creado no tiene permiso para hacer nada, por lo que alguien (normalmente un **administrador de base de datos (DBA)**) necesita otorgar permiso a ese usuario para realizar ciertas operaciones en la base de datos.\n",
        "\n",
        "2. [**Transactional Control Language (TCL)**](https://en.wikipedia.org/wiki/SQL#Transaction_controls): Estos comandos se utilizan para garantizar que las unidades de trabajo completas se completen en su totalidad o no se completen en absoluto. Un ejemplo es una transferencia bancaria: debe asegurarse de que si se ha retirado dinero de la cuenta A, también se ha depositado en la cuenta B, lo que requiere incluir estos dos comandos en una transacción."
      ]
    },
    {
      "cell_type": "markdown",
      "metadata": {
        "id": "nCnR8RtaKhdd"
      },
      "source": [
        "## Conclusiones (2 min)"
      ]
    },
    {
      "cell_type": "markdown",
      "metadata": {
        "id": "MNpvWkTyKhdd"
      },
      "source": [
        "En este caso, aprendió los conceptos básicos de SQL y lo utilizó para optimizar las operaciones de ventas de una empresa de servicios financieros. Redujimos nuestro conjunto de cohortes de clientes potencialmente interesantes y pudimos calcular estadísticas resumidas sobre las tasas de conversión de ventas de esas cohortes, en particular frente a la media. En particular, aprendimos que algunas de nuestras hipótesis \"obvias\" no dieron resultado, lo que ilustra la importancia de investigar siempre los datos para validar nuestros pensamientos. También analizamos el desempeño de los agentes de ventas y pudimos encontrar los que eran más o menos productivos en métricas particulares."
      ]
    },
    {
      "cell_type": "markdown",
      "metadata": {
        "id": "0VUKGJmAKhde"
      },
      "source": [
        "## Para llevar (3 min)"
      ]
    },
    {
      "cell_type": "markdown",
      "metadata": {
        "id": "oYK0c0FQKhde"
      },
      "source": [
        "En este caso, aprendimos los conceptos básicos de los sistemas RDBMS y su terminología adecuada. También construimos una base de comandos SQL básicos para extraer datos de una base de datos. Específicamente nosotros:\n",
        "\n",
        "1. Aprendimos que es RDBMS \n",
        "2. Nos conectamos a una database por medio de ```SQLAlchemy```\n",
        "3. Realizamos querys como ```SELECT ... FROM``` \n",
        "4. Aprendimos sobre las keywords ```WHERE```, ```ORDER BY```, ```AS```, ```DISTINCT```, ```LIKE```, ```CASE-END```, y```JOIN```, \n",
        "5. Realizamos algunos metodos de agregacion\n",
        "\n",
        "Cuando se trabaja con grandes conjuntos de datos, SQL es una herramienta poderosa que puede ayudarnos a navegar y comprender los datos de formas que Python no puede. A veces, incluso puede servir como la primera etapa de un análisis de datos exploratorio y puede ayudarnos a responder preguntas por sí solo. Además, SQL es el medio a través del cual podemos crear y conservar datos en bases de datos para uso futuro a gran escala.\n",
        "\n",
        "Como se mencionó al final, solo tocamos un subconjunto de las capacidades y la sintaxis de SQL, a saber, realizar consultas que manipulen los datos. Ningún conjunto de herramientas para científicos de datos está completo sin una comprensión de cómo interactuar y almacenar los datos sin procesar con los que trabajan. SQL es menos un elemento básico de todos los días en comparación con Python, pero aún debe estar familiarizado con las diferentes capacidades de SQL y usar este caso como una hoja de trucos para cuando tenga que usar SQL en el futuro. Para su comodidad, hemos adjuntado una hoja de trucos al final.    "
      ]
    },
    {
      "cell_type": "markdown",
      "metadata": {
        "id": "OKdwABZrKhde"
      },
      "source": [
        "## Appendix: SQL Cheat Sheet\n",
        "\n",
        "**SELECT**\n",
        "\n",
        "```SQL\n",
        "- SELECT * FROM table_name -- Select all columns from a table\n",
        "- SELECT column_name(s) FROM table_name -- Select some columns from a table\n",
        "- SELECT DISTINCT column_name(s) FROM table_name -- Select only the different values\n",
        "- SELECT column_name(s) FROM table_name -- Select data filtered with the WHERE clause\n",
        "  WHERE column operator value\n",
        "        AND column operator value\n",
        "        OR column operator value\n",
        "- SELECT column_name(s) FROM table_name -- Order data by multiple columns. DESC for descending \n",
        "  ORDER BY column_1, column_2 DESC, column_3 ASC -- and ASC (optional) for ascending order\n",
        "```\n",
        "\n",
        "**Operators**\n",
        "- `<` - Less than\n",
        "- `>` - Greater than\n",
        "- `<=` - Less than or equal\n",
        "- `>=` - Greater than or equal\n",
        "- `<>` - Not equal\n",
        "- `=` - Equal\n",
        "- `BETWEEN v1 AND v2` - Between a specified range\n",
        "- `LIKE` - Search pattern. Use '%' as a wildcard. E.g., '%o%' matches o, bob, blob, etc.\n",
        "\n",
        "**Aggregate Functions**\n",
        "- `AVG(column)` - Returns the average value of a column\n",
        "- `COUNT(column)` - Returns the number of rows (without a NULL value) of a column\n",
        "- `MAX(column)` - Returns the maximum value of a column\n",
        "- `MIN(column)` - Returns the minimum value of a column\n",
        "- `SUM(column)` - Returns the minimum value of a column\n",
        "```SQL\n",
        "SELECT AVG(column_name), MIN(column_name), MAX(column_name) FROM table_name\n",
        "```\n",
        " \n",
        "**Misc.**\n",
        "- `CASE-END` - Used in `SELECT` queries to alter a variable in place. E.g.\n",
        "```SQL\n",
        "SELECT column_name\n",
        "    CASE\n",
        "        WHEN column_name >= 0 THEN 'POSITIBE'\n",
        "        ELSE 'negative'\n",
        "    END\n",
        "FROM table\n",
        "```\n",
        "- `AS` - Used to rename a variable. E.g.\n",
        "```SQL\n",
        "SELECT SUM(column_name) AS total_column_name FROM table_name\n",
        "```\n",
        "- `GROUP BY` - Used to group rows that share the same value(s) in particular column(s). It is mostly used along with aggregation functions\n",
        "- `ORDER BY` - Determines the order in which the rows are returned by an SQL query"
      ]
    },
    {
      "cell_type": "code",
      "metadata": {
        "id": "VAt4XfMrKhde"
      },
      "source": [
        ""
      ],
      "execution_count": null,
      "outputs": []
    }
  ]
}